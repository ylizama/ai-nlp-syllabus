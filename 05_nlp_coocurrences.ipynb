{
 "cells": [
  {
   "cell_type": "code",
   "execution_count": 45,
   "metadata": {},
   "outputs": [],
   "source": [
    "from nltk import ngrams\n",
    "import nltk as nltk\n",
    "from nltk.corpus import stopwords\n",
    "\n",
    "#nltk.download('punkt');\n",
    "#nltk.download('averaged_perceptron_tagger');\n",
    "from nltk.stem import WordNetLemmatizer;\n",
    "wordnet_lemmatizer = WordNetLemmatizer();\n",
    "#nltk.download('wordnet');\n",
    "\n",
    "import pandas as pd\n",
    "import matplotlib.pyplot as plt\n",
    "import seaborn as sns\n",
    "%matplotlib inline\n",
    "import numpy as np\n",
    "\n",
    "import re\n",
    "import os\n",
    "import string\n",
    "import operator\n",
    "from itertools import islice\n",
    "from collections import Counter\n",
    "\n",
    "from datetime import date\n",
    "import matplotlib.dates as dates"
   ]
  },
  {
   "cell_type": "code",
   "execution_count": 46,
   "metadata": {},
   "outputs": [],
   "source": [
    "sns.set_style('darkgrid')\n",
    "sns.set_context('paper')\n",
    "pd.set_option('display.max_colwidth', None)"
   ]
  },
  {
   "cell_type": "code",
   "execution_count": 47,
   "metadata": {},
   "outputs": [],
   "source": [
    "punct_signs = list(string.punctuation)\n",
    "punct_signs.append('…')\n",
    "punct_signs.append('¿')\n",
    "punct_signs.append('•')\n",
    "punct_signs.append('”')\n",
    "punct_signs.append('“')\n",
    "punct_signs.append('–')\n",
    "punct_signs.remove('&')\n",
    "punct_signs.append('∑')\n",
    "\n",
    "stop_words = stopwords.words('english') + ['also', 'could', ]"
   ]
  },
  {
   "cell_type": "code",
   "execution_count": 48,
   "metadata": {},
   "outputs": [
    {
     "data": {
      "text/plain": [
       "Index(['ID', 'Country', 'Univeristy', 'G2RWorldRank', 'G2RNationalRank',\n",
       "       'QSWorldUniversityRanking2021', 'Program',\n",
       "       'SchoolOfferingCourseProgram', 'CourseDescription', 'Course Unit',\n",
       "       'CourseUnitGoals', 'CourseUnitOutcomes'],\n",
       "      dtype='object')"
      ]
     },
     "execution_count": 48,
     "metadata": {},
     "output_type": "execute_result"
    }
   ],
   "source": [
    "df = pd.read_csv('data/courses.csv')\n",
    "df = df.fillna(\"\")\n",
    "df.columns"
   ]
  },
  {
   "cell_type": "code",
   "execution_count": 49,
   "metadata": {},
   "outputs": [],
   "source": [
    "import math\n",
    "def clean_text(text):\n",
    "    for p in punct_signs:\n",
    "        text = text.replace(p, ' ')\n",
    "    clean_text = text.lower().split()\n",
    "    clean_text = [w for w in clean_text if w not in stop_words]\n",
    "    return clean_text\n",
    "\n",
    "def get_pairs(lst):\n",
    "    i = 0\n",
    "    res = []\n",
    "    while i < len(lst):\n",
    "        j = i + 1\n",
    "        while j < len(lst):\n",
    "            res.append((lst[i], lst[j]))\n",
    "            j = j + 1\n",
    "        i = i +1\n",
    "    return res"
   ]
  },
  {
   "cell_type": "code",
   "execution_count": 50,
   "metadata": {},
   "outputs": [],
   "source": [
    "data = '. '.join(list(df['CourseUnitOutcomes']))"
   ]
  },
  {
   "cell_type": "code",
   "execution_count": 51,
   "metadata": {},
   "outputs": [],
   "source": [
    "goals = data.split('|')\n",
    "ids = 0\n",
    "pairs = []\n",
    "for goal in goals:\n",
    "    tokens = clean_text(goal)\n",
    "    pos_tags = nltk.pos_tag(tokens)\n",
    "    filtered_tags = [wordnet_lemmatizer.lemmatize(pt[0], pos=\"v\") \n",
    "                     for pt in pos_tags if pt[1].startswith('V') or \n",
    "                    pt[1].startswith('N') or pt[1].startswith('J')]\n",
    "    pairs += get_pairs(filtered_tags)"
   ]
  },
  {
   "cell_type": "code",
   "execution_count": 52,
   "metadata": {},
   "outputs": [],
   "source": [
    "edges = pd.DataFrame(pairs, columns =['Source', 'Target'])"
   ]
  },
  {
   "cell_type": "code",
   "execution_count": 53,
   "metadata": {},
   "outputs": [
    {
     "data": {
      "text/plain": [
       "(31373, 2)"
      ]
     },
     "execution_count": 53,
     "metadata": {},
     "output_type": "execute_result"
    }
   ],
   "source": [
    "edges.shape"
   ]
  },
  {
   "cell_type": "code",
   "execution_count": 54,
   "metadata": {},
   "outputs": [],
   "source": [
    "df = edges.reset_index().groupby(['Source', 'Target']).agg({'index' : 'count'})"
   ]
  },
  {
   "cell_type": "code",
   "execution_count": 59,
   "metadata": {},
   "outputs": [],
   "source": [
    "df = df.reset_index()"
   ]
  },
  {
   "cell_type": "code",
   "execution_count": 60,
   "metadata": {},
   "outputs": [],
   "source": [
    "df.columns = ['Source', 'Target', 'Weigth']\n",
    "df.to_csv('data/net_coocurrence.csv')"
   ]
  },
  {
   "cell_type": "code",
   "execution_count": 61,
   "metadata": {},
   "outputs": [
    {
     "data": {
      "text/html": [
       "<div>\n",
       "<style scoped>\n",
       "    .dataframe tbody tr th:only-of-type {\n",
       "        vertical-align: middle;\n",
       "    }\n",
       "\n",
       "    .dataframe tbody tr th {\n",
       "        vertical-align: top;\n",
       "    }\n",
       "\n",
       "    .dataframe thead th {\n",
       "        text-align: right;\n",
       "    }\n",
       "</style>\n",
       "<table border=\"1\" class=\"dataframe\">\n",
       "  <thead>\n",
       "    <tr style=\"text-align: right;\">\n",
       "      <th></th>\n",
       "      <th>Source</th>\n",
       "      <th>Target</th>\n",
       "      <th>Weigth</th>\n",
       "    </tr>\n",
       "  </thead>\n",
       "  <tbody>\n",
       "    <tr>\n",
       "      <th>0</th>\n",
       "      <td>abilities</td>\n",
       "      <td>critical</td>\n",
       "      <td>1</td>\n",
       "    </tr>\n",
       "    <tr>\n",
       "      <th>1</th>\n",
       "      <td>abilities</td>\n",
       "      <td>current</td>\n",
       "      <td>1</td>\n",
       "    </tr>\n",
       "    <tr>\n",
       "      <th>2</th>\n",
       "      <td>abilities</td>\n",
       "      <td>evaluation</td>\n",
       "      <td>1</td>\n",
       "    </tr>\n",
       "    <tr>\n",
       "      <th>3</th>\n",
       "      <td>abilities</td>\n",
       "      <td>methodologies</td>\n",
       "      <td>1</td>\n",
       "    </tr>\n",
       "    <tr>\n",
       "      <th>4</th>\n",
       "      <td>abilities</td>\n",
       "      <td>research</td>\n",
       "      <td>2</td>\n",
       "    </tr>\n",
       "  </tbody>\n",
       "</table>\n",
       "</div>"
      ],
      "text/plain": [
       "      Source         Target  Weigth\n",
       "0  abilities       critical       1\n",
       "1  abilities        current       1\n",
       "2  abilities     evaluation       1\n",
       "3  abilities  methodologies       1\n",
       "4  abilities       research       2"
      ]
     },
     "execution_count": 61,
     "metadata": {},
     "output_type": "execute_result"
    }
   ],
   "source": [
    "df.head()"
   ]
  },
  {
   "cell_type": "code",
   "execution_count": null,
   "metadata": {},
   "outputs": [],
   "source": []
  }
 ],
 "metadata": {
  "kernelspec": {
   "display_name": "Python 3",
   "language": "python",
   "name": "python3"
  },
  "language_info": {
   "codemirror_mode": {
    "name": "ipython",
    "version": 3
   },
   "file_extension": ".py",
   "mimetype": "text/x-python",
   "name": "python",
   "nbconvert_exporter": "python",
   "pygments_lexer": "ipython3",
   "version": "3.8.5"
  }
 },
 "nbformat": 4,
 "nbformat_minor": 2
}
