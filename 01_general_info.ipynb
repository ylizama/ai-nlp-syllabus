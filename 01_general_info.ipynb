{
 "cells": [
  {
   "cell_type": "code",
   "execution_count": 2,
   "metadata": {},
   "outputs": [],
   "source": [
    "import pandas as pd\n",
    "import matplotlib.pyplot as plt\n",
    "import numpy as np\n",
    "import seaborn as sns\n",
    "%matplotlib inline\n",
    "\n",
    "import re\n",
    "import os\n",
    "import string\n",
    "import operator\n",
    "from itertools import islice\n",
    "from collections import Counter\n",
    "\n",
    "from datetime import date\n",
    "import matplotlib.dates as dates\n",
    "\n",
    "from nltk import ngrams\n",
    "import nltk.probability"
   ]
  },
  {
   "cell_type": "code",
   "execution_count": 4,
   "metadata": {},
   "outputs": [],
   "source": [
    "sns.set_style('darkgrid')\n",
    "sns.set_context('paper')\n",
    "pd.set_option('display.max_colwidth', None)"
   ]
  },
  {
   "cell_type": "code",
   "execution_count": 5,
   "metadata": {},
   "outputs": [],
   "source": [
    "punct_signs = list(string.punctuation)\n",
    "punct_signs.append('…')\n",
    "punct_signs.append('¿')\n",
    "punct_signs.append('•')\n",
    "punct_signs.append('”')\n",
    "punct_signs.append('“')\n",
    "punct_signs.append('–')\n",
    "punct_signs.append('∑')\n",
    "punct_signs.remove('&')\n"
   ]
  },
  {
   "cell_type": "markdown",
   "metadata": {},
   "source": [
    "## General Information "
   ]
  },
  {
   "cell_type": "code",
   "execution_count": 7,
   "metadata": {},
   "outputs": [
    {
     "data": {
      "text/plain": [
       "Index(['ID', 'Country', 'Univeristy', 'G2RWorldRank', 'G2RNationalRank',\n",
       "       'QSWorldUniversityRanking2021', 'Program',\n",
       "       'SchoolOfferingCourseProgram', 'CourseDescription', 'Course Unit',\n",
       "       'CourseUnitGoals', 'CourseUnitOutcomes'],\n",
       "      dtype='object')"
      ]
     },
     "execution_count": 7,
     "metadata": {},
     "output_type": "execute_result"
    }
   ],
   "source": [
    "df = pd.read_csv('data/courses.csv')\n",
    "df.columns"
   ]
  },
  {
   "cell_type": "code",
   "execution_count": 10,
   "metadata": {},
   "outputs": [
    {
     "name": "stdout",
     "output_type": "stream",
     "text": [
      "Total of courses:  503\n"
     ]
    }
   ],
   "source": [
    "\n",
    "print('Total of courses: ', len(df))"
   ]
  },
  {
   "cell_type": "markdown",
   "metadata": {},
   "source": [
    "## Number of courses by country"
   ]
  },
  {
   "cell_type": "code",
   "execution_count": 25,
   "metadata": {},
   "outputs": [
    {
     "data": {
      "text/html": [
       "<div>\n",
       "<style scoped>\n",
       "    .dataframe tbody tr th:only-of-type {\n",
       "        vertical-align: middle;\n",
       "    }\n",
       "\n",
       "    .dataframe tbody tr th {\n",
       "        vertical-align: top;\n",
       "    }\n",
       "\n",
       "    .dataframe thead th {\n",
       "        text-align: right;\n",
       "    }\n",
       "</style>\n",
       "<table border=\"1\" class=\"dataframe\">\n",
       "  <thead>\n",
       "    <tr style=\"text-align: right;\">\n",
       "      <th></th>\n",
       "      <th>Number of courses</th>\n",
       "    </tr>\n",
       "    <tr>\n",
       "      <th>Country</th>\n",
       "      <th></th>\n",
       "    </tr>\n",
       "  </thead>\n",
       "  <tbody>\n",
       "    <tr>\n",
       "      <th>USA</th>\n",
       "      <td>361</td>\n",
       "    </tr>\n",
       "    <tr>\n",
       "      <th>Canada</th>\n",
       "      <td>32</td>\n",
       "    </tr>\n",
       "    <tr>\n",
       "      <th>Switzerland</th>\n",
       "      <td>24</td>\n",
       "    </tr>\n",
       "    <tr>\n",
       "      <th>UK</th>\n",
       "      <td>20</td>\n",
       "    </tr>\n",
       "    <tr>\n",
       "      <th>Singapure</th>\n",
       "      <td>19</td>\n",
       "    </tr>\n",
       "    <tr>\n",
       "      <th>Hong Kong</th>\n",
       "      <td>12</td>\n",
       "    </tr>\n",
       "    <tr>\n",
       "      <th>Germany</th>\n",
       "      <td>10</td>\n",
       "    </tr>\n",
       "    <tr>\n",
       "      <th>Sweden</th>\n",
       "      <td>7</td>\n",
       "    </tr>\n",
       "    <tr>\n",
       "      <th>Belgium</th>\n",
       "      <td>5</td>\n",
       "    </tr>\n",
       "    <tr>\n",
       "      <th>Austria</th>\n",
       "      <td>3</td>\n",
       "    </tr>\n",
       "    <tr>\n",
       "      <th>Denmark</th>\n",
       "      <td>3</td>\n",
       "    </tr>\n",
       "    <tr>\n",
       "      <th>France</th>\n",
       "      <td>2</td>\n",
       "    </tr>\n",
       "    <tr>\n",
       "      <th>India</th>\n",
       "      <td>2</td>\n",
       "    </tr>\n",
       "    <tr>\n",
       "      <th>Australia</th>\n",
       "      <td>1</td>\n",
       "    </tr>\n",
       "    <tr>\n",
       "      <th>Italy</th>\n",
       "      <td>1</td>\n",
       "    </tr>\n",
       "    <tr>\n",
       "      <th>Netherlands</th>\n",
       "      <td>1</td>\n",
       "    </tr>\n",
       "    <tr>\n",
       "      <th>Total</th>\n",
       "      <td>503</td>\n",
       "    </tr>\n",
       "  </tbody>\n",
       "</table>\n",
       "</div>"
      ],
      "text/plain": [
       "             Number of courses\n",
       "Country                       \n",
       "USA                        361\n",
       "Canada                      32\n",
       "Switzerland                 24\n",
       "UK                          20\n",
       "Singapure                   19\n",
       "Hong Kong                   12\n",
       "Germany                     10\n",
       "Sweden                       7\n",
       "Belgium                      5\n",
       "Austria                      3\n",
       "Denmark                      3\n",
       "France                       2\n",
       "India                        2\n",
       "Australia                    1\n",
       "Italy                        1\n",
       "Netherlands                  1\n",
       "Total                      503"
      ]
     },
     "execution_count": 25,
     "metadata": {},
     "output_type": "execute_result"
    }
   ],
   "source": [
    "df_ = df.groupby(['Country']).agg({'ID':'count'})\n",
    "\n",
    "df_.columns = ['Number of courses']\n",
    "df_ = df_.sort_values('Number of courses', ascending= False)\n",
    "df_.loc['Total', 'Number of courses'] = df_['Number of courses'].sum()\n",
    "df_.astype(int)"
   ]
  },
  {
   "cell_type": "markdown",
   "metadata": {},
   "source": [
    "## Total of countries"
   ]
  },
  {
   "cell_type": "code",
   "execution_count": 26,
   "metadata": {},
   "outputs": [
    {
     "data": {
      "text/plain": [
       "17"
      ]
     },
     "execution_count": 26,
     "metadata": {},
     "output_type": "execute_result"
    }
   ],
   "source": [
    "len(df_)"
   ]
  },
  {
   "cell_type": "markdown",
   "metadata": {},
   "source": [
    "## Number of courses by University (Top 20)"
   ]
  },
  {
   "cell_type": "code",
   "execution_count": 30,
   "metadata": {},
   "outputs": [
    {
     "data": {
      "text/html": [
       "<div>\n",
       "<style scoped>\n",
       "    .dataframe tbody tr th:only-of-type {\n",
       "        vertical-align: middle;\n",
       "    }\n",
       "\n",
       "    .dataframe tbody tr th {\n",
       "        vertical-align: top;\n",
       "    }\n",
       "\n",
       "    .dataframe thead th {\n",
       "        text-align: right;\n",
       "    }\n",
       "</style>\n",
       "<table border=\"1\" class=\"dataframe\">\n",
       "  <thead>\n",
       "    <tr style=\"text-align: right;\">\n",
       "      <th></th>\n",
       "      <th></th>\n",
       "      <th></th>\n",
       "      <th></th>\n",
       "      <th>Number of courses</th>\n",
       "    </tr>\n",
       "    <tr>\n",
       "      <th>Univeristy</th>\n",
       "      <th>G2RWorldRank</th>\n",
       "      <th>G2RNationalRank</th>\n",
       "      <th>QSWorldUniversityRanking2021</th>\n",
       "      <th></th>\n",
       "    </tr>\n",
       "  </thead>\n",
       "  <tbody>\n",
       "    <tr>\n",
       "      <th>Carnegie Mellon University</th>\n",
       "      <th>1</th>\n",
       "      <th>1</th>\n",
       "      <th>51.0</th>\n",
       "      <td>42</td>\n",
       "    </tr>\n",
       "    <tr>\n",
       "      <th>University of Texas at Austin</th>\n",
       "      <th>15</th>\n",
       "      <th>14</th>\n",
       "      <th>71.0</th>\n",
       "      <td>38</td>\n",
       "    </tr>\n",
       "    <tr>\n",
       "      <th>University of Washington</th>\n",
       "      <th>11</th>\n",
       "      <th>10</th>\n",
       "      <th>72.0</th>\n",
       "      <td>24</td>\n",
       "    </tr>\n",
       "    <tr>\n",
       "      <th>University of California, Irvine</th>\n",
       "      <th>21</th>\n",
       "      <th>18</th>\n",
       "      <th>210.0</th>\n",
       "      <td>21</td>\n",
       "    </tr>\n",
       "    <tr>\n",
       "      <th>MIT</th>\n",
       "      <th>2</th>\n",
       "      <th>2</th>\n",
       "      <th>1.0</th>\n",
       "      <td>20</td>\n",
       "    </tr>\n",
       "    <tr>\n",
       "      <th>University of Waterloo</th>\n",
       "      <th>22</th>\n",
       "      <th>2</th>\n",
       "      <th>166.0</th>\n",
       "      <td>20</td>\n",
       "    </tr>\n",
       "    <tr>\n",
       "      <th>University of Pennsylvania</th>\n",
       "      <th>24</th>\n",
       "      <th>19</th>\n",
       "      <th>16.0</th>\n",
       "      <td>20</td>\n",
       "    </tr>\n",
       "    <tr>\n",
       "      <th>University of Southern California</th>\n",
       "      <th>10</th>\n",
       "      <th>9</th>\n",
       "      <th>121.0</th>\n",
       "      <td>17</td>\n",
       "    </tr>\n",
       "    <tr>\n",
       "      <th>Cornell University</th>\n",
       "      <th>19</th>\n",
       "      <th>16</th>\n",
       "      <th>18.0</th>\n",
       "      <td>15</td>\n",
       "    </tr>\n",
       "    <tr>\n",
       "      <th>Princeton University</th>\n",
       "      <th>20</th>\n",
       "      <th>17</th>\n",
       "      <th>12.0</th>\n",
       "      <td>14</td>\n",
       "    </tr>\n",
       "    <tr>\n",
       "      <th>ETH Zurich</th>\n",
       "      <th>16</th>\n",
       "      <th>2</th>\n",
       "      <th>6.0</th>\n",
       "      <td>13</td>\n",
       "    </tr>\n",
       "    <tr>\n",
       "      <th>University of Wisconsin-Madison</th>\n",
       "      <th>25</th>\n",
       "      <th>20</th>\n",
       "      <th>65.0</th>\n",
       "      <td>13</td>\n",
       "    </tr>\n",
       "    <tr>\n",
       "      <th>Georgia Institute of Technology</th>\n",
       "      <th>5</th>\n",
       "      <th>5</th>\n",
       "      <th>80.0</th>\n",
       "      <td>12</td>\n",
       "    </tr>\n",
       "    <tr>\n",
       "      <th>Johns Hopkins University</th>\n",
       "      <th>35</th>\n",
       "      <th>23</th>\n",
       "      <th>25.0</th>\n",
       "      <td>12</td>\n",
       "    </tr>\n",
       "    <tr>\n",
       "      <th>National University of Singapore</th>\n",
       "      <th>26</th>\n",
       "      <th>1</th>\n",
       "      <th>11.0</th>\n",
       "      <td>12</td>\n",
       "    </tr>\n",
       "    <tr>\n",
       "      <th>EPFL : École polytechnique fédérale de Lausanne(University of Lausanne)</th>\n",
       "      <th>7</th>\n",
       "      <th>1</th>\n",
       "      <th>169.0</th>\n",
       "      <td>11</td>\n",
       "    </tr>\n",
       "    <tr>\n",
       "      <th>University of Cambridge</th>\n",
       "      <th>43</th>\n",
       "      <th>5</th>\n",
       "      <th>7.0</th>\n",
       "      <td>11</td>\n",
       "    </tr>\n",
       "    <tr>\n",
       "      <th>Stony Brook University</th>\n",
       "      <th>62</th>\n",
       "      <th>35</th>\n",
       "      <th>373.0</th>\n",
       "      <td>10</td>\n",
       "    </tr>\n",
       "    <tr>\n",
       "      <th>University of California, Santa Cruz</th>\n",
       "      <th>46</th>\n",
       "      <th>28</th>\n",
       "      <th>416.0</th>\n",
       "      <td>9</td>\n",
       "    </tr>\n",
       "    <tr>\n",
       "      <th>University of Colorado Boulder</th>\n",
       "      <th>55</th>\n",
       "      <th>33</th>\n",
       "      <th>230.0</th>\n",
       "      <td>8</td>\n",
       "    </tr>\n",
       "  </tbody>\n",
       "</table>\n",
       "</div>"
      ],
      "text/plain": [
       "                                                                                                                                   Number of courses\n",
       "Univeristy                                                              G2RWorldRank G2RNationalRank QSWorldUniversityRanking2021                   \n",
       "Carnegie Mellon University                                              1            1               51.0                                         42\n",
       "University of Texas at Austin                                           15           14              71.0                                         38\n",
       "University of Washington                                                11           10              72.0                                         24\n",
       "University of California, Irvine                                        21           18              210.0                                        21\n",
       "MIT                                                                     2            2               1.0                                          20\n",
       "University of Waterloo                                                  22           2               166.0                                        20\n",
       "University of Pennsylvania                                              24           19              16.0                                         20\n",
       "University of Southern California                                       10           9               121.0                                        17\n",
       "Cornell University                                                      19           16              18.0                                         15\n",
       "Princeton University                                                    20           17              12.0                                         14\n",
       "ETH Zurich                                                              16           2               6.0                                          13\n",
       "University of Wisconsin-Madison                                         25           20              65.0                                         13\n",
       "Georgia Institute of Technology                                         5            5               80.0                                         12\n",
       "Johns Hopkins University                                                35           23              25.0                                         12\n",
       "National University of Singapore                                        26           1               11.0                                         12\n",
       "EPFL : École polytechnique fédérale de Lausanne(University of Lausanne) 7            1               169.0                                        11\n",
       "University of Cambridge                                                 43           5               7.0                                          11\n",
       "Stony Brook University                                                  62           35              373.0                                        10\n",
       "University of California, Santa Cruz                                    46           28              416.0                                         9\n",
       "University of Colorado Boulder                                          55           33              230.0                                         8"
      ]
     },
     "execution_count": 30,
     "metadata": {},
     "output_type": "execute_result"
    }
   ],
   "source": [
    "df_ = df.groupby(['Univeristy','G2RWorldRank', 'G2RNationalRank',\n",
    "       'QSWorldUniversityRanking2021' ]).agg({'ID':'count'})\n",
    "\n",
    "df_.columns = ['Number of courses']\n",
    "df_ = df_.sort_values('Number of courses', ascending= False)\n",
    "\n",
    "df_= df_.astype(int)\n",
    "df_.head(20)"
   ]
  },
  {
   "cell_type": "markdown",
   "metadata": {},
   "source": [
    "## Total of Universities"
   ]
  },
  {
   "cell_type": "code",
   "execution_count": 28,
   "metadata": {},
   "outputs": [
    {
     "data": {
      "text/plain": [
       "66"
      ]
     },
     "execution_count": 28,
     "metadata": {},
     "output_type": "execute_result"
    }
   ],
   "source": [
    "len(df_)"
   ]
  },
  {
   "cell_type": "markdown",
   "metadata": {},
   "source": [
    "## Number of courses by program (top 20)"
   ]
  },
  {
   "cell_type": "code",
   "execution_count": 37,
   "metadata": {},
   "outputs": [
    {
     "data": {
      "text/html": [
       "<div>\n",
       "<style scoped>\n",
       "    .dataframe tbody tr th:only-of-type {\n",
       "        vertical-align: middle;\n",
       "    }\n",
       "\n",
       "    .dataframe tbody tr th {\n",
       "        vertical-align: top;\n",
       "    }\n",
       "\n",
       "    .dataframe thead th {\n",
       "        text-align: right;\n",
       "    }\n",
       "</style>\n",
       "<table border=\"1\" class=\"dataframe\">\n",
       "  <thead>\n",
       "    <tr style=\"text-align: right;\">\n",
       "      <th></th>\n",
       "      <th>Number of courses</th>\n",
       "    </tr>\n",
       "    <tr>\n",
       "      <th>Program</th>\n",
       "      <th></th>\n",
       "    </tr>\n",
       "  </thead>\n",
       "  <tbody>\n",
       "    <tr>\n",
       "      <th>Engineering Ethics</th>\n",
       "      <td>4</td>\n",
       "    </tr>\n",
       "    <tr>\n",
       "      <th>Artificial Intelligence</th>\n",
       "      <td>4</td>\n",
       "    </tr>\n",
       "    <tr>\n",
       "      <th>Ethics and Policy Issues in Computing</th>\n",
       "      <td>3</td>\n",
       "    </tr>\n",
       "    <tr>\n",
       "      <th>Introduction to Software Engineering</th>\n",
       "      <td>3</td>\n",
       "    </tr>\n",
       "    <tr>\n",
       "      <th>Computer Science</th>\n",
       "      <td>3</td>\n",
       "    </tr>\n",
       "    <tr>\n",
       "      <th>Social Implications of Computer Technology</th>\n",
       "      <td>2</td>\n",
       "    </tr>\n",
       "    <tr>\n",
       "      <th>Computers, Ethics, and Public Policy</th>\n",
       "      <td>2</td>\n",
       "    </tr>\n",
       "    <tr>\n",
       "      <th>Computers and Society</th>\n",
       "      <td>2</td>\n",
       "    </tr>\n",
       "    <tr>\n",
       "      <th>Senior Design Project</th>\n",
       "      <td>2</td>\n",
       "    </tr>\n",
       "    <tr>\n",
       "      <th>Computer Security</th>\n",
       "      <td>2</td>\n",
       "    </tr>\n",
       "    <tr>\n",
       "      <th>Security and Privacy</th>\n",
       "      <td>2</td>\n",
       "    </tr>\n",
       "    <tr>\n",
       "      <th>Information Security</th>\n",
       "      <td>2</td>\n",
       "    </tr>\n",
       "    <tr>\n",
       "      <th>Artificial Intelligence Methods for Social Good</th>\n",
       "      <td>2</td>\n",
       "    </tr>\n",
       "    <tr>\n",
       "      <th>Special Topics</th>\n",
       "      <td>2</td>\n",
       "    </tr>\n",
       "    <tr>\n",
       "      <th>Human-Computer Interaction</th>\n",
       "      <td>2</td>\n",
       "    </tr>\n",
       "    <tr>\n",
       "      <th>Computer Engineering</th>\n",
       "      <td>2</td>\n",
       "    </tr>\n",
       "    <tr>\n",
       "      <th>Professional Ethics</th>\n",
       "      <td>2</td>\n",
       "    </tr>\n",
       "    <tr>\n",
       "      <th>Contemporary Logic Design</th>\n",
       "      <td>2</td>\n",
       "    </tr>\n",
       "    <tr>\n",
       "      <th>Introduction to Computer Science</th>\n",
       "      <td>2</td>\n",
       "    </tr>\n",
       "    <tr>\n",
       "      <th>ADVANCED COMPUTER SECURITY AND PRIVACY</th>\n",
       "      <td>2</td>\n",
       "    </tr>\n",
       "  </tbody>\n",
       "</table>\n",
       "</div>"
      ],
      "text/plain": [
       "                                                 Number of courses\n",
       "Program                                                           \n",
       "Engineering Ethics                                               4\n",
       "Artificial Intelligence                                          4\n",
       "Ethics and Policy Issues in Computing                            3\n",
       "Introduction to Software Engineering                             3\n",
       "Computer Science                                                 3\n",
       "Social Implications of Computer Technology                       2\n",
       "Computers, Ethics, and Public Policy                             2\n",
       "Computers and Society                                            2\n",
       "Senior Design Project                                            2\n",
       "Computer Security                                                2\n",
       "Security and Privacy                                             2\n",
       "Information Security                                             2\n",
       "Artificial Intelligence Methods for Social Good                  2\n",
       "Special Topics                                                   2\n",
       "Human-Computer Interaction                                       2\n",
       "Computer Engineering                                             2\n",
       "Professional Ethics                                              2\n",
       "Contemporary Logic Design                                        2\n",
       "Introduction to Computer Science                                 2\n",
       "ADVANCED COMPUTER SECURITY AND PRIVACY                           2"
      ]
     },
     "execution_count": 37,
     "metadata": {},
     "output_type": "execute_result"
    }
   ],
   "source": [
    "df_ = df.groupby(['Program' ]).agg({'ID':'count'})\n",
    "\n",
    "df_.columns = ['Number of courses']\n",
    "df_ = df_.sort_values('Number of courses', ascending= False)\n",
    "\n",
    "df_= df_.astype(int)\n",
    "df_.head(20)"
   ]
  },
  {
   "cell_type": "markdown",
   "metadata": {},
   "source": [
    "## Total of Programs"
   ]
  },
  {
   "cell_type": "code",
   "execution_count": 38,
   "metadata": {},
   "outputs": [
    {
     "data": {
      "text/plain": [
       "475"
      ]
     },
     "execution_count": 38,
     "metadata": {},
     "output_type": "execute_result"
    }
   ],
   "source": [
    "len(df_)"
   ]
  },
  {
   "cell_type": "markdown",
   "metadata": {},
   "source": [
    "## Total of courses by SchoolOfferingCourseProgram (top 20)"
   ]
  },
  {
   "cell_type": "code",
   "execution_count": 39,
   "metadata": {},
   "outputs": [
    {
     "data": {
      "text/html": [
       "<div>\n",
       "<style scoped>\n",
       "    .dataframe tbody tr th:only-of-type {\n",
       "        vertical-align: middle;\n",
       "    }\n",
       "\n",
       "    .dataframe tbody tr th {\n",
       "        vertical-align: top;\n",
       "    }\n",
       "\n",
       "    .dataframe thead th {\n",
       "        text-align: right;\n",
       "    }\n",
       "</style>\n",
       "<table border=\"1\" class=\"dataframe\">\n",
       "  <thead>\n",
       "    <tr style=\"text-align: right;\">\n",
       "      <th></th>\n",
       "      <th>Number of courses</th>\n",
       "    </tr>\n",
       "    <tr>\n",
       "      <th>SchoolOfferingCourseProgram</th>\n",
       "      <th></th>\n",
       "    </tr>\n",
       "  </thead>\n",
       "  <tbody>\n",
       "    <tr>\n",
       "      <th>Engineering School</th>\n",
       "      <td>18</td>\n",
       "    </tr>\n",
       "    <tr>\n",
       "      <th>College of Engineering</th>\n",
       "      <td>18</td>\n",
       "    </tr>\n",
       "    <tr>\n",
       "      <th>COLLEGE OF ENGINEERING</th>\n",
       "      <td>17</td>\n",
       "    </tr>\n",
       "    <tr>\n",
       "      <th>Whiting School of Engineering</th>\n",
       "      <td>12</td>\n",
       "    </tr>\n",
       "    <tr>\n",
       "      <th>School of Electrical Engineering</th>\n",
       "      <td>12</td>\n",
       "    </tr>\n",
       "    <tr>\n",
       "      <th>Informatics</th>\n",
       "      <td>12</td>\n",
       "    </tr>\n",
       "    <tr>\n",
       "      <th>School of continuing and lifelong education</th>\n",
       "      <td>9</td>\n",
       "    </tr>\n",
       "    <tr>\n",
       "      <th>Computer Science Department</th>\n",
       "      <td>9</td>\n",
       "    </tr>\n",
       "    <tr>\n",
       "      <th>Department of Computer Science and Engineering</th>\n",
       "      <td>9</td>\n",
       "    </tr>\n",
       "    <tr>\n",
       "      <th>Dietrich College of Humanities and Social Sciences,Department of Philosophy</th>\n",
       "      <td>9</td>\n",
       "    </tr>\n",
       "    <tr>\n",
       "      <th>School of Engineering and Applied Sciences</th>\n",
       "      <td>7</td>\n",
       "    </tr>\n",
       "    <tr>\n",
       "      <th>Institute of Continuing Education (ICE)</th>\n",
       "      <td>7</td>\n",
       "    </tr>\n",
       "    <tr>\n",
       "      <th>School of Electrical and Computer Engineering</th>\n",
       "      <td>6</td>\n",
       "    </tr>\n",
       "    <tr>\n",
       "      <th>Institute for Software Research</th>\n",
       "      <td>6</td>\n",
       "    </tr>\n",
       "    <tr>\n",
       "      <th>Human-Computers Interaction Institute</th>\n",
       "      <td>5</td>\n",
       "    </tr>\n",
       "    <tr>\n",
       "      <th>School of Computer Science</th>\n",
       "      <td>4</td>\n",
       "    </tr>\n",
       "    <tr>\n",
       "      <th>Barnard College</th>\n",
       "      <td>4</td>\n",
       "    </tr>\n",
       "    <tr>\n",
       "      <th>Information and Computer Science</th>\n",
       "      <td>4</td>\n",
       "    </tr>\n",
       "    <tr>\n",
       "      <th>Department of Computer Science</th>\n",
       "      <td>4</td>\n",
       "    </tr>\n",
       "    <tr>\n",
       "      <th>School of Arts and Sciences</th>\n",
       "      <td>3</td>\n",
       "    </tr>\n",
       "  </tbody>\n",
       "</table>\n",
       "</div>"
      ],
      "text/plain": [
       "                                                                              Number of courses\n",
       "SchoolOfferingCourseProgram                                                                    \n",
       "Engineering School                                                                           18\n",
       "College of Engineering                                                                       18\n",
       "COLLEGE OF ENGINEERING                                                                       17\n",
       "Whiting School of Engineering                                                                12\n",
       "School of Electrical Engineering                                                             12\n",
       "Informatics                                                                                  12\n",
       "School of continuing and lifelong education                                                   9\n",
       "Computer Science Department                                                                   9\n",
       "Department of Computer Science and Engineering                                                9\n",
       "Dietrich College of Humanities and Social Sciences,Department of Philosophy                   9\n",
       "School of Engineering and Applied Sciences                                                    7\n",
       "Institute of Continuing Education (ICE)                                                       7\n",
       "School of Electrical and Computer Engineering                                                 6\n",
       "Institute for Software Research                                                               6\n",
       "Human-Computers Interaction Institute                                                         5\n",
       "School of Computer Science                                                                    4\n",
       "Barnard College                                                                               4\n",
       "Information and Computer Science                                                              4\n",
       "Department of Computer Science                                                                4\n",
       "School of Arts and Sciences                                                                   3"
      ]
     },
     "execution_count": 39,
     "metadata": {},
     "output_type": "execute_result"
    }
   ],
   "source": [
    "df_ = df.groupby(['SchoolOfferingCourseProgram' ]).agg({'ID':'count'})\n",
    "\n",
    "df_.columns = ['Number of courses']\n",
    "df_ = df_.sort_values('Number of courses', ascending= False)\n",
    "\n",
    "df_= df_.astype(int)\n",
    "df_.head(20)"
   ]
  },
  {
   "cell_type": "markdown",
   "metadata": {},
   "source": [
    "## Total of Schools Offering Program"
   ]
  },
  {
   "cell_type": "code",
   "execution_count": 40,
   "metadata": {},
   "outputs": [
    {
     "data": {
      "text/plain": [
       "52"
      ]
     },
     "execution_count": 40,
     "metadata": {},
     "output_type": "execute_result"
    }
   ],
   "source": [
    "len(df_)"
   ]
  },
  {
   "cell_type": "markdown",
   "metadata": {},
   "source": [
    "##  Total of courses including Course Description"
   ]
  },
  {
   "cell_type": "code",
   "execution_count": 45,
   "metadata": {},
   "outputs": [
    {
     "data": {
      "text/plain": [
       "478"
      ]
     },
     "execution_count": 45,
     "metadata": {},
     "output_type": "execute_result"
    }
   ],
   "source": [
    "df['CourseDescription'].count()"
   ]
  },
  {
   "cell_type": "markdown",
   "metadata": {},
   "source": [
    "##  Total of courses including Goals. "
   ]
  },
  {
   "cell_type": "code",
   "execution_count": 46,
   "metadata": {},
   "outputs": [
    {
     "data": {
      "text/plain": [
       "74"
      ]
     },
     "execution_count": 46,
     "metadata": {},
     "output_type": "execute_result"
    }
   ],
   "source": [
    "df['CourseUnitGoals'].count()"
   ]
  },
  {
   "cell_type": "markdown",
   "metadata": {},
   "source": [
    "## Total of courses including outcomes."
   ]
  },
  {
   "cell_type": "code",
   "execution_count": 47,
   "metadata": {},
   "outputs": [
    {
     "data": {
      "text/plain": [
       "76"
      ]
     },
     "execution_count": 47,
     "metadata": {},
     "output_type": "execute_result"
    }
   ],
   "source": [
    "df['CourseUnitOutcomes'].count()"
   ]
  },
  {
   "cell_type": "markdown",
   "metadata": {},
   "source": [
    "## Total of courses including Description, Goals and Outcomes. "
   ]
  },
  {
   "cell_type": "code",
   "execution_count": 53,
   "metadata": {},
   "outputs": [
    {
     "data": {
      "text/plain": [
       "46"
      ]
     },
     "execution_count": 53,
     "metadata": {},
     "output_type": "execute_result"
    }
   ],
   "source": [
    "df_ = df.assign(count=df.loc[:, ['CourseUnitOutcomes','CourseUnitGoals', 'CourseDescription']].notna().sum(axis=1))\n",
    "df_ = df[df_['count'] == 3]\n",
    "len(df_)"
   ]
  },
  {
   "cell_type": "code",
   "execution_count": null,
   "metadata": {},
   "outputs": [],
   "source": []
  }
 ],
 "metadata": {
  "kernelspec": {
   "display_name": "Python 3",
   "language": "python",
   "name": "python3"
  },
  "language_info": {
   "codemirror_mode": {
    "name": "ipython",
    "version": 3
   },
   "file_extension": ".py",
   "mimetype": "text/x-python",
   "name": "python",
   "nbconvert_exporter": "python",
   "pygments_lexer": "ipython3",
   "version": "3.8.5"
  }
 },
 "nbformat": 4,
 "nbformat_minor": 2
}
