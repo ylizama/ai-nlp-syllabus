{
 "cells": [
  {
   "cell_type": "markdown",
   "metadata": {},
   "source": [
    "## Topic Modelling"
   ]
  },
  {
   "cell_type": "code",
   "execution_count": 1,
   "metadata": {},
   "outputs": [
    {
     "data": {
      "text/html": [
       "<style>.container { width:100% !important; }</style>"
      ],
      "text/plain": [
       "<IPython.core.display.HTML object>"
      ]
     },
     "metadata": {},
     "output_type": "display_data"
    }
   ],
   "source": [
    "from IPython.core.display import display, HTML\n",
    "display(HTML(\"<style>.container { width:100% !important; }</style>\"))"
   ]
  },
  {
   "cell_type": "code",
   "execution_count": 13,
   "metadata": {},
   "outputs": [],
   "source": [
    "import sys\n",
    "import os\n",
    "#!{sys.executable} -m spacy download en\n",
    "import re, numpy as np, pandas as pd\n",
    "from pprint import pprint\n",
    "import nltk\n",
    "\n",
    "# Gensim\n",
    "import gensim, spacy, logging, warnings\n",
    "import gensim.corpora as corpora\n",
    "import gensim.utils\n",
    "from gensim.models import CoherenceModel\n",
    "import matplotlib.pyplot as plt\n",
    "\n",
    "# NLTK Stop words\n",
    "from nltk.corpus import stopwords\n",
    "stop_words = stopwords.words('english')\n",
    "stop_words.extend(['from', 'subject', 're', 'edu', 'use', 'not', 'would', 'say', 'could', '_', 'be', 'know', 'good', 'go', 'get', 'do', 'done', 'try', 'many', 'some', 'nice', 'thank', 'think', 'see', 'rather', 'easy', 'easily', 'lot', 'lack', 'make', 'want', 'seem', 'run', 'need', 'even', 'right', 'line', 'even', 'also', 'may', 'take', 'come'])\n",
    "\n",
    "%matplotlib inline\n",
    "warnings.filterwarnings(\"ignore\",category=DeprecationWarning)\n",
    "logging.basicConfig(format='%(asctime)s : %(levelname)s : %(message)s', level=logging.ERROR)"
   ]
  },
  {
   "cell_type": "code",
   "execution_count": 20,
   "metadata": {},
   "outputs": [],
   "source": [
    "import re\n",
    "import numpy as np\n",
    "import pandas as pd\n",
    "from pprint import pprint\n",
    "\n",
    "# Gensim\n",
    "import gensim\n",
    "import gensim.corpora as corpora\n",
    "from gensim.utils import simple_preprocess\n",
    "from gensim.models import CoherenceModel\n",
    "\n",
    "# spacy for lemmatization\n",
    "import spacy\n",
    "\n",
    "# Plotting tools\n",
    "import pyLDAvis\n",
    "#import pyLDAvis.gensim  # don't skip this\n",
    "import matplotlib.pyplot as plt\n",
    "%matplotlib inline\n",
    "\n",
    "# Enable logging for gensim - optional\n",
    "import logging\n",
    "logging.basicConfig(format='%(asctime)s : %(levelname)s : %(message)s', level=logging.ERROR)\n",
    "\n",
    "import warnings\n",
    "warnings.filterwarnings(\"ignore\",category=DeprecationWarning)"
   ]
  },
  {
   "cell_type": "code",
   "execution_count": 21,
   "metadata": {},
   "outputs": [],
   "source": [
    "### from nltk.corpus import stopwords\n",
    "stop_words = stopwords.words('english')\n",
    "stop_words.extend(['from', 'subject', 're', 'edu', 'use', 'could', 'also'])"
   ]
  },
  {
   "cell_type": "markdown",
   "metadata": {},
   "source": [
    "## Loading data"
   ]
  },
  {
   "cell_type": "code",
   "execution_count": 15,
   "metadata": {},
   "outputs": [
    {
     "data": {
      "text/plain": [
       "Index(['ID', 'Country', 'Univeristy', 'G2RWorldRank', 'G2RNationalRank',\n",
       "       'QSWorldUniversityRanking2021', 'Program',\n",
       "       'SchoolOfferingCourseProgram', 'CourseDescription', 'Course Unit',\n",
       "       'CourseUnitGoals', 'CourseUnitOutcomes'],\n",
       "      dtype='object')"
      ]
     },
     "execution_count": 15,
     "metadata": {},
     "output_type": "execute_result"
    }
   ],
   "source": [
    "df = pd.read_csv('data/courses.csv')\n",
    "df = df.fillna(\"\")\n",
    "df.columns"
   ]
  },
  {
   "cell_type": "code",
   "execution_count": 16,
   "metadata": {},
   "outputs": [
    {
     "data": {
      "text/plain": [
       "503"
      ]
     },
     "execution_count": 16,
     "metadata": {},
     "output_type": "execute_result"
    }
   ],
   "source": [
    "df ['summary'] = df['CourseDescription'] + df['CourseUnitGoals'] + df['CourseUnitOutcomes']\n",
    "data = list(df['summary'])\n",
    "len(data)"
   ]
  },
  {
   "cell_type": "markdown",
   "metadata": {},
   "source": [
    "## Tokenizing and cleaning data"
   ]
  },
  {
   "cell_type": "code",
   "execution_count": 17,
   "metadata": {},
   "outputs": [],
   "source": [
    "from gensim.utils import simple_preprocess\n",
    "def clean_text(texts):\n",
    "    for sent in texts:\n",
    "        sent = re.sub('\\S*@\\S*\\s?', '', sent)  # remove emails\n",
    "        sent = re.sub('\\s+', ' ', sent)  # remove newline chars\n",
    "        sent = re.sub(\"\\'\", \"\", sent)  # remove single quotes\n",
    "        sent = gensim.utils.simple_preprocess(str(sent), deacc=True) \n",
    "        yield(sent)  \n",
    "\n",
    "data_0  = list(clean_text(data))"
   ]
  },
  {
   "cell_type": "markdown",
   "metadata": {},
   "source": [
    "## Bigrams-Trigrams Models"
   ]
  },
  {
   "cell_type": "code",
   "execution_count": 26,
   "metadata": {},
   "outputs": [
    {
     "name": "stdout",
     "output_type": "stream",
     "text": [
      "lowest_frequency_unigrams 475\n",
      "[['our', 'graduates', 'will', 'be', 'experts', 'solving', 'problems', 'by', 'applying', 'ece', 'fundamentals', 'building', 'solutions', 'that', 'reflect', 'depth', 'of', 'understanding', 'in', 'their', 'sophistication', 'and', 'breadth', 'of', 'understanding', 'by', 'drawing', 'on', 'multiple', 'disciplines', 'innovators', 'demonstrating', 'creativity', 'in', 'their', 'engineering', 'practice', 'considering', 'holistic', 'systems', 'oriented', 'approaches', 'in', 'their', 'designs', 'thinking', 'strategically', 'in', 'their', 'planning', 'and', 'execution', 'and', 'leaders', 'taking', 'initiative', 'demonstrating', 'resourcefulness', 'collaborating', 'in', 'teams', 'and', 'leading', 'in', 'their', 'organizations', 'their', 'profession', 'and', 'in', 'society', 'an', 'ability', 'to', 'identify', 'formulate', 'and', 'solve', 'complex', 'engineering', 'problems', 'by', 'applying', 'principles', 'of', 'engineering', 'science', 'and', 'mathematics', 'an', 'ability', 'to', 'apply', 'engineering', 'design', 'to', 'produce', 'solutions', 'that', 'meet', 'specified', 'needs', 'with', 'consideration', 'of', 'public', 'health', 'safety', 'and', 'welfare', 'as', 'well', 'as', 'global', 'cultural', 'social', 'environmental', 'and', 'economic', 'factors', 'an', 'ability', 'to', 'communicate', 'effectively', 'with', 'range', 'of', 'audiences', 'an', 'ability', 'to', 'recognize', 'ethical', 'and', 'professional', 'in', 'engineering', 'situations', 'and', 'make', 'informed', 'judgments', 'which', 'must', 'consider', 'the', 'impact', 'of', 'engineering', 'solutions', 'in', 'global', 'economic', 'environmental', 'and', 'societal', 'contexts', 'an', 'ability', 'to', 'function', 'effectively', 'on', 'team', 'whose', 'members', 'together', 'provide', 'leadership', 'create', 'collaborative', 'and', 'inclusive', 'environment', 'establish', 'goals', 'plan', 'tasks', 'and', 'meet', 'objectives', 'an', 'ability', 'to', 'develop', 'and', 'conduct', 'appropriate', 'experimentation', 'analyze', 'and', 'interpret', 'data', 'and', 'use', 'engineering', 'judgment', 'to', 'draw', 'conclusions', 'an', 'ability', 'to', 'acquire', 'and', 'apply', 'new', 'knowledge', 'as', 'needed', 'using', 'appropriate', 'learning', 'strategies']]\n"
     ]
    }
   ],
   "source": [
    "xx= pd.Series(nltk.ngrams(data_0, 1)).value_counts()\n",
    "as_dataframe= xx.to_frame(\"count\")\n",
    "reqd_Index = as_dataframe[as_dataframe['count']<=100].index.tolist()\n",
    "lowest_frequency_unigrams =[]\n",
    "for element in reqd_Index:\n",
    "    lowest_frequency_unigrams.append(element)\n",
    "lowest_frequency_unigrams.append(\"1\")\n",
    "lowest_frequency_unigrams.append(\"\\ufeff1\")\n",
    "\n",
    "print (\"lowest_frequency_unigrams\",len(lowest_frequency_unigrams))\n",
    "\n",
    "data =[]\n",
    "for text in data_0:\n",
    "    temporal_variable=[]\n",
    "    for word in text:\n",
    "        if word not in lowest_frequency_unigrams:\n",
    "            temporal_variable.append(word)\n",
    "    temporal_variable= \" \".join(temporal_variable)\n",
    "    data.append(temporal_variable)\n",
    "    \n",
    "#12\n",
    "def sent_to_words(sentences):\n",
    "    for sentence in sentences:\n",
    "        yield(gensim.utils.simple_preprocess(str(sentence), deacc=True))  # deacc=True removes punctuations\n",
    "\n",
    "data_words = list(sent_to_words(data))\n",
    "\n",
    "print(data_words[:1])"
   ]
  },
  {
   "cell_type": "code",
   "execution_count": 28,
   "metadata": {},
   "outputs": [
    {
     "name": "stderr",
     "output_type": "stream",
     "text": [
      "/home/yadira/.virtualenvs/ai-nlp-docs/lib/python3.8/site-packages/gensim/models/phrases.py:494: UserWarning: For a faster implementation, use the gensim.models.phrases.Phraser class\n",
      "  warnings.warn(\"For a faster implementation, use the gensim.models.phrases.Phraser class\")\n"
     ]
    },
    {
     "name": "stdout",
     "output_type": "stream",
     "text": [
      "['our', 'graduates', 'will', 'be', 'experts', 'solving', 'problems', 'by', 'applying', 'ece', 'fundamentals', 'building', 'solutions', 'that', 'reflect', 'depth', 'of', 'understanding', 'in', 'their', 'sophistication', 'and', 'breadth', 'of', 'understanding', 'by', 'drawing', 'on', 'multiple', 'disciplines', 'innovators', 'demonstrating', 'creativity', 'in', 'their', 'engineering', 'practice', 'considering', 'holistic', 'systems', 'oriented', 'approaches', 'in', 'their', 'designs', 'thinking', 'strategically', 'in', 'their', 'planning', 'and', 'execution', 'and', 'leaders', 'taking', 'initiative', 'demonstrating', 'resourcefulness', 'collaborating', 'in', 'teams', 'and', 'leading', 'in', 'their', 'organizations', 'their', 'profession', 'and', 'in', 'society', 'an', 'ability', 'to', 'identify_formulate', 'and', 'solve', 'complex', 'engineering', 'problems', 'by', 'applying', 'principles', 'of', 'engineering', 'science', 'and', 'mathematics', 'an', 'ability', 'to', 'apply', 'engineering', 'design', 'to', 'produce', 'solutions', 'that', 'meet_specified', 'needs', 'with', 'consideration', 'of', 'public', 'health', 'safety', 'and', 'welfare', 'as', 'well', 'as', 'global', 'cultural', 'social', 'environmental', 'and', 'economic', 'factors', 'an', 'ability', 'to', 'communicate_effectively', 'with', 'range', 'of', 'audiences', 'an', 'ability', 'to', 'recognize', 'ethical', 'and', 'professional', 'in', 'engineering', 'situations', 'and', 'make', 'informed', 'judgments', 'which', 'must', 'consider', 'the', 'impact', 'of', 'engineering', 'solutions', 'in', 'global', 'economic', 'environmental', 'and', 'societal', 'contexts', 'an', 'ability', 'to', 'function_effectively', 'on', 'team_whose', 'members_together', 'provide', 'leadership', 'create_collaborative', 'and', 'inclusive', 'environment', 'establish_goals', 'plan_tasks', 'and', 'meet_objectives', 'an', 'ability', 'to', 'develop', 'and', 'conduct', 'appropriate', 'experimentation', 'analyze', 'and', 'interpret', 'data', 'and', 'use', 'engineering', 'judgment', 'to', 'draw', 'conclusions', 'an', 'ability', 'to', 'acquire', 'and', 'apply', 'new', 'knowledge', 'as', 'needed', 'using', 'appropriate', 'learning', 'strategies']\n"
     ]
    }
   ],
   "source": [
    "bigram = gensim.models.Phrases(data_words, min_count=50, threshold=100) # higher threshold fewer phrases.\n",
    "trigram = gensim.models.Phrases(bigram[data_words], threshold=100)  \n",
    "\n",
    "# Faster way to get a sentence clubbed as a trigram/bigram\n",
    "bigram_mod = gensim.models.phrases.Phraser(bigram)\n",
    "trigram_mod = gensim.models.phrases.Phraser(trigram)\n",
    "\n",
    "# See trigram example\n",
    "print(trigram_mod[bigram_mod[data_words[0]]])"
   ]
  },
  {
   "cell_type": "code",
   "execution_count": 29,
   "metadata": {},
   "outputs": [],
   "source": [
    "# Define functions for stopwords, bigrams, trigrams and lemmatization\n",
    "def remove_stopwords(texts):\n",
    "    return [[word for word in simple_preprocess(str(doc)) if word not in stop_words] for doc in texts]\n",
    "\n",
    "def make_bigrams(texts):\n",
    "    return [bigram_mod[doc] for doc in texts]\n",
    "\n",
    "def make_trigrams(texts):\n",
    "    return [trigram_mod[bigram_mod[doc]] for doc in texts]\n",
    "\n",
    "def lemmatization(texts, allowed_postags=['NOUN', 'ADJ', 'VERB', 'ADV']):\n",
    "    \"\"\"https://spacy.io/api/annotation\"\"\"\n",
    "    texts_out = []\n",
    "    for sent in texts:\n",
    "        doc = nlp(\" \".join(sent)) \n",
    "        texts_out.append([token.lemma_ for token in doc if token.pos_ in allowed_postags])\n",
    "    return texts_out"
   ]
  },
  {
   "cell_type": "code",
   "execution_count": 32,
   "metadata": {},
   "outputs": [
    {
     "name": "stdout",
     "output_type": "stream",
     "text": [
      "[['graduate', 'be', 'expert', 'solve', 'problem', 'apply', 'ece', 'fundamental', 'building', 'solution', 'reflect', 'depth', 'understanding', 'sophistication', 'breadth', 'understanding', 'draw', 'multiple', 'discipline', 'innovator', 'demonstrate', 'creativity', 'engineering', 'practice', 'consider', 'holistic', 'system', 'orient', 'approach', 'design', 'think', 'strategically', 'planning', 'execution', 'leader', 'take', 'initiative', 'demonstrate', 'resourcefulness', 'collaborating', 'team', 'lead', 'organization', 'profession', 'society', 'ability', 'identify', 'formulate', 'solve', 'complex', 'engineering', 'problem', 'apply', 'principle', 'engineering', 'science', 'mathematic', 'ability', 'apply', 'engineering', 'design', 'produce', 'solution', 'meet', 'specify', 'need', 'consideration', 'public', 'health', 'safety', 'welfare', 'as', 'well', 'global', 'cultural', 'social', 'environmental', 'economic', 'factor', 'ability', 'communicate', 'effectively', 'range', 'audience', 'ability', 'recognize', 'ethical', 'professional', 'engineering', 'situation', 'make', 'informed', 'judgment', 'consider', 'impact', 'engineering', 'solution', 'global', 'economic', 'environmental', 'societal', 'context', 'ability', 'function', 'effectively', 'team', 'member', 'together', 'provide', 'leadership', 'create', 'collaborative', 'inclusive', 'environment', 'establish', 'goal', 'plan', 'task', 'meet', 'objective', 'ability', 'develop', 'conduct', 'appropriate', 'experimentation', 'analyze', 'interpret', 'datum', 'use', 'engineering', 'judgment', 'draw', 'conclusion', 'ability', 'acquire', 'apply', 'new', 'knowledge', 'need', 'use', 'appropriate', 'learning', 'strategy']]\n"
     ]
    }
   ],
   "source": [
    "# Form Bigrams\n",
    "data_words_bigrams = make_bigrams(data_words)\n",
    "\n",
    "# Initialize spacy 'en' model, keeping only tagger component (for efficiency)\n",
    "# python3 -m spacy download en\n",
    "\n",
    "nlp = spacy.load(\"en_core_web_sm\")\n",
    "\n",
    "\n",
    "# Do lemmatization keeping only noun, adj, vb, adv\n",
    "data_lemmatized = lemmatization(data_words_bigrams, allowed_postags=['NOUN', 'ADJ', 'VERB', 'ADV'])\n",
    "\n",
    "print(data_lemmatized[:1])"
   ]
  },
  {
   "cell_type": "code",
   "execution_count": 33,
   "metadata": {},
   "outputs": [
    {
     "name": "stdout",
     "output_type": "stream",
     "text": [
      "['our', 'graduates', 'will', 'be', 'experts', 'solving', 'problems', 'by', 'applying', 'ece', 'fundamentals', 'building', 'solutions', 'that', 'reflect', 'depth', 'of', 'understanding', 'in', 'their', 'sophistication', 'and', 'breadth', 'of', 'understanding', 'by', 'drawing', 'on', 'multiple', 'disciplines', 'innovators', 'demonstrating', 'creativity', 'in', 'their', 'engineering', 'practice', 'considering', 'holistic', 'systems', 'oriented', 'approaches', 'in', 'their', 'designs', 'thinking', 'strategically', 'in', 'their', 'planning', 'and', 'execution', 'and', 'leaders', 'taking', 'initiative', 'demonstrating', 'resourcefulness', 'collaborating', 'in', 'teams', 'and', 'leading', 'in', 'their', 'organizations', 'their', 'profession', 'and', 'in', 'society', 'an', 'ability', 'to', 'identify_formulate', 'and', 'solve', 'complex', 'engineering', 'problems', 'by', 'applying', 'principles', 'of', 'engineering', 'science', 'and', 'mathematics', 'an', 'ability', 'to', 'apply', 'engineering', 'design', 'to', 'produce', 'solutions', 'that', 'meet_specified', 'needs', 'with', 'consideration', 'of', 'public', 'health', 'safety', 'and', 'welfare', 'as', 'well', 'as', 'global', 'cultural', 'social', 'environmental', 'and', 'economic', 'factors', 'an', 'ability', 'to', 'communicate_effectively', 'with', 'range', 'of', 'audiences', 'an', 'ability', 'to', 'recognize', 'ethical', 'and', 'professional', 'in', 'engineering', 'situations', 'and', 'make', 'informed', 'judgments', 'which', 'must', 'consider', 'the', 'impact', 'of', 'engineering', 'solutions', 'in', 'global', 'economic', 'environmental', 'and', 'societal', 'contexts', 'an', 'ability', 'to', 'function_effectively', 'on', 'team_whose', 'members_together', 'provide', 'leadership', 'create_collaborative', 'and', 'inclusive', 'environment', 'establish_goals', 'plan_tasks', 'and', 'meet_objectives', 'an', 'ability', 'to', 'develop', 'and', 'conduct', 'appropriate', 'experimentation', 'analyze', 'and', 'interpret', 'data', 'and', 'use', 'engineering', 'judgment', 'to', 'draw', 'conclusions', 'an', 'ability', 'to', 'acquire', 'and', 'apply', 'new', 'knowledge', 'as', 'needed', 'using', 'appropriate', 'learning', 'strategies']\n"
     ]
    }
   ],
   "source": [
    "# Build the bigram and trigram models\n",
    "bigram = gensim.models.Phrases(data_words, min_count=50, threshold=100) # higher threshold fewer phrases.\n",
    "trigram = gensim.models.Phrases(bigram[data_words], threshold=100)  \n",
    "\n",
    "# Faster way to get a sentence clubbed as a trigram/bigram\n",
    "bigram_mod = gensim.models.phrases.Phraser(bigram)\n",
    "trigram_mod = gensim.models.phrases.Phraser(trigram)\n",
    "\n",
    "# See trigram example\n",
    "print(trigram_mod[bigram_mod[data_words[0]]])"
   ]
  },
  {
   "cell_type": "code",
   "execution_count": 34,
   "metadata": {},
   "outputs": [
    {
     "name": "stdout",
     "output_type": "stream",
     "text": [
      "[[(0, 7), (1, 1), (2, 1), (3, 4), (4, 1), (5, 2), (6, 1), (7, 1), (8, 1), (9, 1), (10, 1), (11, 1), (12, 1), (13, 1), (14, 1), (15, 1), (16, 1), (17, 2), (18, 1), (19, 1), (20, 1), (21, 1), (22, 1), (23, 1), (24, 2), (25, 1), (26, 2), (27, 1), (28, 1), (29, 2), (30, 1), (31, 2), (32, 2), (33, 7), (34, 1), (35, 2), (36, 1), (37, 1), (38, 1), (39, 1), (40, 1), (41, 1), (42, 1), (43, 1), (44, 1), (45, 2), (46, 1), (47, 1), (48, 1), (49, 1), (50, 1), (51, 1), (52, 1), (53, 1), (54, 1), (55, 1), (56, 1), (57, 2), (58, 1), (59, 1), (60, 1), (61, 1), (62, 1), (63, 1), (64, 1), (65, 2), (66, 1), (67, 1), (68, 2), (69, 1), (70, 1), (71, 1), (72, 1), (73, 1), (74, 1), (75, 1), (76, 1), (77, 2), (78, 1), (79, 1), (80, 1), (81, 1), (82, 1), (83, 1), (84, 1), (85, 1), (86, 1), (87, 1), (88, 1), (89, 1), (90, 1), (91, 1), (92, 1), (93, 3), (94, 2), (95, 1), (96, 1), (97, 1), (98, 1), (99, 1), (100, 1), (101, 1), (102, 2), (103, 1), (104, 1), (105, 2), (106, 2), (107, 1), (108, 1)]]\n"
     ]
    }
   ],
   "source": [
    "# Create Dictionary\n",
    "id2word = corpora.Dictionary(data_lemmatized)\n",
    "\n",
    "# Create Corpus\n",
    "texts = data_lemmatized\n",
    "\n",
    "# Term Document Frequency\n",
    "corpus = [id2word.doc2bow(text) for text in texts]\n",
    "\n",
    "# View\n",
    "print(corpus[:1])"
   ]
  },
  {
   "cell_type": "code",
   "execution_count": 35,
   "metadata": {},
   "outputs": [],
   "source": [
    "#12.0\n",
    "def compute_coherence_values(dictionary, corpus, texts, limit, start=2, step=3):\n",
    "    \"\"\"\n",
    "    Compute c_v coherence for various number of topics\n",
    "\n",
    "    Parameters:\n",
    "    ----------\n",
    "    dictionary : Gensim dictionary\n",
    "    corpus : Gensim corpus\n",
    "    texts : List of input texts\n",
    "    limit : Max num of topics\n",
    "\n",
    "    Returns:\n",
    "    -------\n",
    "    model_list : List of LDA topic models\n",
    "    coherence_values : Coherence values corresponding to the LDA model with respective number of topics\n",
    "    \"\"\"\n",
    "    coherence_values = []\n",
    "    model_list = []\n",
    "    for num_topics in range(start, limit, step):\n",
    "        model = gensim.models.ldamodel.LdaModel(corpus=corpus,\n",
    "                                           id2word=id2word,\n",
    "                                           num_topics=num_topics, \n",
    "                                           random_state=100,\n",
    "                                           update_every=1,\n",
    "                                           chunksize=100,\n",
    "                                           passes=10,\n",
    "                                           alpha='auto',\n",
    "                                           per_word_topics=True)\n",
    "        #model = gensim.models.wrappers.LdaMallet(mallet_path, corpus=corpus, num_topics=num_topics, id2word=id2word)\n",
    "        model_list.append(model)\n",
    "        coherencemodel = CoherenceModel(model=model, texts=texts, dictionary=dictionary, coherence='c_v')\n",
    "        coherence_values.append(coherencemodel.get_coherence())\n",
    "\n",
    "    return model_list, coherence_values"
   ]
  },
  {
   "cell_type": "code",
   "execution_count": 36,
   "metadata": {},
   "outputs": [],
   "source": [
    "model_list, coherence_values = compute_coherence_values(dictionary=id2word, corpus=corpus, texts=data_lemmatized, start=2, limit=40, step=6)"
   ]
  },
  {
   "cell_type": "code",
   "execution_count": 37,
   "metadata": {},
   "outputs": [
    {
     "data": {
      "image/png": "[encoded data removed]",
      "text/plain": [
       "<Figure size 432x288 with 1 Axes>"
      ]
     },
     "metadata": {
      "needs_background": "light"
     },
     "output_type": "display_data"
    }
   ],
   "source": [
    "limit=40; start=2; step=6;\n",
    "x = range(start, limit, step)\n",
    "plt.plot(x, coherence_values)\n",
    "plt.xlabel(\"Num Topics\")\n",
    "plt.ylabel(\"Coherence score\")\n",
    "plt.legend((\"coherence_values\"), loc='best')\n",
    "plt.show()"
   ]
  },
  {
   "cell_type": "code",
   "execution_count": 38,
   "metadata": {},
   "outputs": [
    {
     "name": "stdout",
     "output_type": "stream",
     "text": [
      "num topics=  2 has Coherence Value of 0.2752\n",
      "num topics=  8 has Coherence Value of 0.3397\n",
      "num topics=  14 has Coherence Value of 0.3554\n",
      "num topics=  20 has Coherence Value of 0.3432\n",
      "num topics=  26 has Coherence Value of 0.3421\n",
      "num topics=  32 has Coherence Value of 0.3736\n",
      "num topics=  38 has Coherence Value of 0.3759\n"
     ]
    }
   ],
   "source": [
    "for m, cv in zip (x,coherence_values):\n",
    "    print (\"num topics= \", m, \"has Coherence Value of\", round (cv,4))"
   ]
  },
  {
   "cell_type": "code",
   "execution_count": 39,
   "metadata": {},
   "outputs": [
    {
     "name": "stdout",
     "output_type": "stream",
     "text": [
      "[(0, '0.076*\"security\" + 0.043*\"privacy\" + 0.030*\"forensic\" + 0.024*\"usability\" + 0.023*\"policy\" + 0.022*\"system\" + 0.021*\"network\" + 0.020*\"include\" + 0.019*\"trust\" + 0.018*\"public\"'), (1, '0.029*\"technology\" + 0.021*\"how\" + 0.020*\"cryptography\" + 0.020*\"encourage\" + 0.019*\"home\" + 0.018*\"mediate\" + 0.018*\"active\" + 0.018*\"social\" + 0.016*\"science\" + 0.014*\"course\"'), (2, '0.029*\"engineering\" + 0.020*\"paper\" + 0.019*\"function\" + 0.015*\"problem\" + 0.014*\"ability\" + 0.014*\"student\" + 0.012*\"provide\" + 0.012*\"make\" + 0.012*\"design\" + 0.011*\"use\"'), (3, '0.028*\"engineering\" + 0.018*\"research\" + 0.018*\"be\" + 0.018*\"software\" + 0.016*\"skill\" + 0.015*\"science\" + 0.012*\"able\" + 0.011*\"discipline\" + 0.010*\"societal\" + 0.010*\"system\"'), (4, '0.052*\"datum\" + 0.041*\"healthcare\" + 0.036*\"ai\" + 0.021*\"use\" + 0.020*\"analytic\" + 0.020*\"learn\" + 0.018*\"student\" + 0.018*\"problem\" + 0.018*\"technique\" + 0.018*\"practical\"'), (5, '0.064*\"datum\" + 0.025*\"data\" + 0.024*\"module\" + 0.019*\"analysis\" + 0.015*\"database\" + 0.015*\"large\" + 0.015*\"scale\" + 0.012*\"literature\" + 0.010*\"web\" + 0.010*\"method\"'), (6, '0.056*\"human\" + 0.047*\"design\" + 0.040*\"system\" + 0.031*\"computer\" + 0.023*\"interaction\" + 0.022*\"include\" + 0.019*\"study\" + 0.018*\"user\" + 0.017*\"topic\" + 0.017*\"social\"'), (7, '0.035*\"technology\" + 0.024*\"society\" + 0.024*\"student\" + 0.023*\"science\" + 0.019*\"course\" + 0.016*\"broad\" + 0.016*\"social\" + 0.015*\"issue\" + 0.014*\"ethical\" + 0.011*\"be\"')]\n"
     ]
    }
   ],
   "source": [
    "optimal_model = model_list[1]\n",
    "model_topics = optimal_model.show_topics(formatted=False)\n",
    "print(optimal_model.print_topics(num_words=10))"
   ]
  },
  {
   "cell_type": "code",
   "execution_count": 40,
   "metadata": {},
   "outputs": [
    {
     "name": "stdout",
     "output_type": "stream",
     "text": [
      "[(0, '0.076*\"security\" + 0.043*\"privacy\" + 0.030*\"forensic\" + 0.024*\"usability\" + 0.023*\"policy\" + 0.022*\"system\" + 0.021*\"network\" + 0.020*\"include\" + 0.019*\"trust\" + 0.018*\"public\"'), (1, '0.029*\"technology\" + 0.021*\"how\" + 0.020*\"cryptography\" + 0.020*\"encourage\" + 0.019*\"home\" + 0.018*\"mediate\" + 0.018*\"active\" + 0.018*\"social\" + 0.016*\"science\" + 0.014*\"course\"'), (2, '0.029*\"engineering\" + 0.020*\"paper\" + 0.019*\"function\" + 0.015*\"problem\" + 0.014*\"ability\" + 0.014*\"student\" + 0.012*\"provide\" + 0.012*\"make\" + 0.012*\"design\" + 0.011*\"use\"'), (3, '0.028*\"engineering\" + 0.018*\"research\" + 0.018*\"be\" + 0.018*\"software\" + 0.016*\"skill\" + 0.015*\"science\" + 0.012*\"able\" + 0.011*\"discipline\" + 0.010*\"societal\" + 0.010*\"system\"'), (4, '0.052*\"datum\" + 0.041*\"healthcare\" + 0.036*\"ai\" + 0.021*\"use\" + 0.020*\"analytic\" + 0.020*\"learn\" + 0.018*\"student\" + 0.018*\"problem\" + 0.018*\"technique\" + 0.018*\"practical\"'), (5, '0.064*\"datum\" + 0.025*\"data\" + 0.024*\"module\" + 0.019*\"analysis\" + 0.015*\"database\" + 0.015*\"large\" + 0.015*\"scale\" + 0.012*\"literature\" + 0.010*\"web\" + 0.010*\"method\"'), (6, '0.056*\"human\" + 0.047*\"design\" + 0.040*\"system\" + 0.031*\"computer\" + 0.023*\"interaction\" + 0.022*\"include\" + 0.019*\"study\" + 0.018*\"user\" + 0.017*\"topic\" + 0.017*\"social\"'), (7, '0.035*\"technology\" + 0.024*\"society\" + 0.024*\"student\" + 0.023*\"science\" + 0.019*\"course\" + 0.016*\"broad\" + 0.016*\"social\" + 0.015*\"issue\" + 0.014*\"ethical\" + 0.011*\"be\"')]\n"
     ]
    }
   ],
   "source": [
    "print(optimal_model.print_topics())\n",
    "doc_lda = optimal_model[corpus]"
   ]
  },
  {
   "cell_type": "code",
   "execution_count": 41,
   "metadata": {},
   "outputs": [
    {
     "data": {
      "text/html": [
       "\n",
       "<link rel=\"stylesheet\" type=\"text/css\" href=\"https://cdn.jsdelivr.net/gh/bmabey/pyLDAvis@3.3.1/pyLDAvis/js/ldavis.v1.0.0.css\">\n",
       "\n",
       "\n",
       "<div id=\"ldavis_el599441406790601385766516595942\"></div>\n",
       "<script type=\"text/javascript\">\n",
       "\n",
       "var ldavis_el599441406790601385766516595942_data = {\"mdsDat\": {\"x\": [-0.15252551730417369, 0.12750676280786732, 0.31234061921813927, -0.35448402309088295, 0.20599907942987047, -0.057421676351398526, -0.21039888303721485, 0.12898363832779297], \"y\": [0.24188671208047943, 0.3604921864041176, -0.0868806230714743, 0.023250825904838707, 0.08981522824740297, -0.033703128389438064, -0.2990668329904143, -0.295794368185512], \"topics\": [1, 2, 3, 4, 5, 6, 7, 8], \"cluster\": [1, 1, 1, 1, 1, 1, 1, 1], \"Freq\": [29.142105621478336, 14.368988058642493, 13.597115328218168, 12.62778710876252, 11.914488538956132, 8.775593720828594, 5.843789254703591, 3.7301323684101675]}, \"tinfo\": {\"Term\": [\"datum\", \"human\", \"security\", \"healthcare\", \"design\", \"technology\", \"engineering\", \"system\", \"ai\", \"privacy\", \"computer\", \"society\", \"science\", \"policy\", \"social\", \"include\", \"interaction\", \"analytic\", \"broad\", \"how\", \"forensic\", \"paper\", \"technique\", \"practical\", \"function\", \"user\", \"study\", \"data\", \"machine\", \"public\", \"broad\", \"compute\", \"community\", \"element\", \"innovation\", \"growth\", \"thing\", \"same\", \"property\", \"relationship\", \"shape\", \"art\", \"group\", \"year\", \"value\", \"governance\", \"lecture\", \"intellectual\", \"language\", \"st\", \"political\", \"idea\", \"robot\", \"programme\", \"society\", \"interest\", \"become\", \"face\", \"reflect\", \"robotic\", \"aim\", \"specific\", \"digital\", \"perspective\", \"internet\", \"class\", \"issue\", \"question\", \"global\", \"ethic\", \"technology\", \"role\", \"legal\", \"law\", \"new\", \"science\", \"examine\", \"risk\", \"course\", \"student\", \"policy\", \"social\", \"ethical\", \"impact\", \"be\", \"provide\", \"topic\", \"how\", \"computer\", \"change\", \"development\", \"healthcare\", \"analytic\", \"practical\", \"unit\", \"real\", \"power\", \"deploy\", \"unprecedented\", \"platform\", \"obtain\", \"analyse\", \"preference\", \"doctor\", \"advent\", \"datathon\", \"ended\", \"substantial\", \"describe\", \"structure\", \"key\", \"reason\", \"statistical\", \"participant\", \"reasoning\", \"piece\", \"available\", \"entrepreneurial\", \"order\", \"extract\", \"empirical\", \"ai\", \"machine\", \"datum\", \"hand\", \"intelligence\", \"learning\", \"technique\", \"particular\", \"concept\", \"artificial\", \"learn\", \"consideration\", \"application\", \"use\", \"develop\", \"problem\", \"approach\", \"change\", \"how\", \"process\", \"understanding\", \"challenge\", \"student\", \"base\", \"apply\", \"address\", \"knowledge\", \"project\", \"program\", \"component\", \"career\", \"fairness\", \"master\", \"core\", \"local\", \"phd\", \"responsibility\", \"play\", \"hardware\", \"presentation\", \"expertise\", \"software\", \"undergraduate\", \"achieve\", \"train\", \"solid\", \"limitation\", \"dynamic\", \"start\", \"analytical\", \"improvement\", \"curriculum\", \"description\", \"define\", \"desire\", \"standard\", \"creation\", \"constraint\", \"enable\", \"importance\", \"engineer\", \"department\", \"requirement\", \"safety\", \"necessary\", \"discipline\", \"able\", \"emphasis\", \"skill\", \"engineering\", \"integrate\", \"research\", \"education\", \"context\", \"societal\", \"graduate\", \"be\", \"algorithm\", \"professional\", \"identify\", \"science\", \"theory\", \"environmental\", \"development\", \"project\", \"system\", \"base\", \"such\", \"include\", \"problem\", \"course\", \"student\", \"team\", \"user\", \"interface\", \"intelligent\", \"performance\", \"activity\", \"agent\", \"related\", \"computation\", \"promote\", \"see\", \"exploit\", \"recognition\", \"patient\", \"discover\", \"sensing\", \"outcome\", \"simulation\", \"widely\", \"adaptive\", \"mix\", \"leverage\", \"elicitation\", \"conventional\", \"beneficial\", \"smart\", \"facilitate\", \"theoretical\", \"degree\", \"high\", \"interaction\", \"human\", \"design\", \"overview\", \"system\", \"computer\", \"assess\", \"include\", \"study\", \"topic\", \"wide\", \"plan\", \"offer\", \"level\", \"individual\", \"social\", \"critically\", \"knowledge\", \"factor\", \"project\", \"technique\", \"student\", \"technology\", \"range\", \"ethical\", \"introduce\", \"develop\", \"function\", \"ability\", \"paper\", \"meet\", \"formulate\", \"communicate\", \"quality\", \"demonstrate\", \"produce\", \"together\", \"reading\", \"source\", \"orient\", \"test\", \"task\", \"establish\", \"sector\", \"experiment\", \"informed\", \"conclusion\", \"document\", \"researcher\", \"judgment\", \"special\", \"leadership\", \"maintenance\", \"inform\", \"welfare\", \"know\", \"audience\", \"result\", \"prediction\", \"mean\", \"recognize\", \"consequence\", \"engineering\", \"concern\", \"give\", \"make\", \"decision\", \"environment\", \"appropriate\", \"create\", \"provide\", \"problem\", \"need\", \"complex\", \"solution\", \"public\", \"apply\", \"goal\", \"design\", \"practice\", \"use\", \"student\", \"various\", \"data\", \"understand\", \"approach\", \"be\", \"course\", \"learn\", \"cryptography\", \"encourage\", \"home\", \"mediate\", \"active\", \"important\", \"gain\", \"conflict\", \"intend\", \"sts\", \"climate\", \"genetic\", \"disruptive\", \"only\", \"interact\", \"concrete\", \"manner\", \"everyday\", \"notion\", \"familiar\", \"point\", \"people\", \"revolution\", \"essential\", \"institution\", \"broadly\", \"action\", \"justify\", \"stakeholder\", \"kind\", \"recent\", \"bias\", \"scientific\", \"why\", \"critical\", \"also\", \"material\", \"history\", \"potential\", \"how\", \"technology\", \"culture\", \"environment\", \"social\", \"technological\", \"study\", \"understand\", \"science\", \"course\", \"modern\", \"historical\", \"explore\", \"challenge\", \"theory\", \"such\", \"human\", \"work\", \"security\", \"forensic\", \"trust\", \"wisdom\", \"adoption\", \"antagonistic\", \"backup\", \"hash\", \"log\", \"mime\", \"pgp\", \"synergistic\", \"access\", \"attack\", \"protection\", \"secure\", \"threat\", \"identity\", \"vulnerability\", \"examination\", \"sustainable\", \"differential\", \"protect\", \"audit\", \"integrity\", \"characteristic\", \"begin\", \"infrastructure\", \"safe\", \"commerce\", \"privacy\", \"usability\", \"network\", \"set\", \"management\", \"personal\", \"term\", \"cyber\", \"public\", \"basic\", \"economic\", \"policy\", \"way\", \"such\", \"complex\", \"system\", \"include\", \"make\", \"case\", \"information\", \"module\", \"scale\", \"literature\", \"web\", \"selection\", \"industrial\", \"detection\", \"paradigm\", \"lsda\", \"regression\", \"informatic\", \"predictive\", \"logic\", \"outline\", \"stewardship\", \"operating\", \"mining\", \"accountability\", \"definition\", \"literacy\", \"interplay\", \"extensive\", \"anomaly\", \"universe\", \"diagram\", \"systematic\", \"clustering\", \"curation\", \"cluster\", \"chip\", \"classification\", \"database\", \"large\", \"data\", \"datum\", \"analysis\", \"aspect\", \"model\", \"method\", \"algorithmic\", \"pattern\", \"machine\", \"principle\", \"such\", \"analyze\", \"decision\"], \"Freq\": [319.0, 240.0, 141.0, 187.0, 239.0, 456.0, 228.0, 250.0, 193.0, 98.0, 191.0, 225.0, 326.0, 155.0, 263.0, 212.0, 99.0, 92.0, 148.0, 228.0, 56.0, 76.0, 117.0, 80.0, 71.0, 72.0, 157.0, 68.0, 93.0, 97.0, 148.04719675267944, 96.30034245009287, 75.21822978428727, 72.37800783124705, 65.74129088119292, 65.88949767735758, 59.94597857050213, 57.90664037777906, 31.299864978401956, 30.61084300002413, 28.613173513805688, 27.7358907004893, 27.161557243314146, 26.09727277891287, 34.07027932045247, 25.406447683520092, 24.95403877176794, 24.38580421870036, 24.19876830410925, 24.07199547255579, 36.280731604718966, 22.130974269468545, 20.83221820758049, 33.90319333235931, 217.24621934486615, 18.76137043794772, 18.407186432658413, 18.268719038137448, 17.698364430622362, 17.350396039508702, 30.051176464981268, 43.64539815915776, 46.541516739661425, 56.07496044745467, 26.783761399299383, 43.77114094405541, 134.75286211377556, 38.335852424995686, 98.45491738011816, 91.2959517852851, 318.80565023327046, 52.00834053326052, 47.30127572663524, 46.04639622593401, 53.86790239177333, 214.55295357001347, 48.6557335422951, 40.486632671706865, 174.1703620349507, 216.5481004055863, 99.53283015411937, 142.85021091939598, 131.20155248435034, 86.12914353510695, 100.1489565230092, 59.51110186659011, 64.05095647991217, 70.1308015121497, 64.90858488947178, 53.847836825941876, 51.244388549712745, 186.36467520113874, 91.71403927290744, 79.38796273120946, 56.3008102487941, 39.4252203392088, 34.10591742779975, 30.47261755358043, 29.757353968677858, 29.57932523554576, 29.008791959472155, 40.01998831323412, 30.151630288508656, 28.367655802898383, 27.573515413953047, 27.573515413953047, 27.573515413953047, 30.65125025356633, 27.91439346152807, 12.01148161112428, 69.62766831432518, 10.330835084160642, 9.358054604026652, 8.095195812861522, 6.829525196990684, 6.784331687737433, 6.99632933285127, 6.173460922621451, 6.060105213606768, 5.929252415895762, 5.673043763552205, 162.69196207156017, 78.64756694516333, 233.87591781470243, 32.66759993028949, 58.34430464558274, 64.60018487013943, 80.27188300414917, 30.788027628229546, 76.329880043839, 50.68828142986585, 90.70021966741228, 33.29853411528739, 55.55344983797934, 95.77760428906397, 73.57768333842314, 80.4309754758197, 52.464860489175415, 53.80066200445612, 72.77093566934782, 39.00224925850592, 45.828658535591785, 51.8091932279828, 82.9207126831324, 40.78207199993938, 47.89222321552204, 38.216931853879366, 43.07581140433337, 41.36435095307882, 37.83729962551437, 29.506342942333546, 24.461151840730555, 23.915151552257274, 23.485811894615317, 23.251775230053717, 21.489208331935973, 19.458065596895185, 19.047396356250047, 19.059376357309226, 17.490895468010777, 17.03616899911681, 16.538518356286037, 75.4774677840586, 15.132647746585349, 14.012676514955661, 13.13408082259814, 13.481143151864853, 14.809325602903796, 12.459888527795284, 12.094727304518065, 11.468117295823651, 11.257314239654802, 11.133521561487328, 10.856065136623169, 11.383481935546854, 10.471617010890126, 12.679692071832447, 10.181903815968173, 10.014270728586888, 14.94725348332183, 15.7809736304274, 35.3988468461221, 21.876563031737504, 21.529732508996705, 36.532232881273096, 21.126137364056234, 45.69729538965864, 50.959391454558784, 23.121975565533635, 69.02051299133316, 120.64168410073165, 21.101372034093533, 76.07659972693747, 21.350322251266416, 38.71364819340299, 42.812886821046924, 28.396423321267275, 75.6622335718704, 28.71416412333777, 39.91299517516973, 33.06595196430264, 65.143936521824, 29.747589589183974, 29.05744760656563, 33.69252700218495, 35.415820679149064, 41.50485854860386, 27.35260852672938, 29.00646415918901, 32.60450710282136, 28.626033680183156, 29.770052840544476, 29.690249447333752, 25.42127848441651, 72.09686854437196, 59.73688381213589, 59.519245642624654, 34.867650233248746, 32.9894478629341, 32.828677338943145, 31.965997272095144, 31.668497196636878, 31.244515697723937, 31.53073206830774, 29.904102496390777, 29.223962338102396, 30.45211566704223, 27.94034625913405, 27.527724555868573, 29.10467427650519, 27.180173454627514, 26.929946163801212, 26.869990346420554, 26.546192557463744, 26.43494970320713, 26.43490701813935, 26.289664579458364, 26.117730982306238, 29.645473670701534, 28.84283107962473, 12.847909390622227, 12.803210701164751, 12.691882476772573, 92.85311003812663, 223.7938462357013, 187.06056160079083, 36.175353681553545, 161.0269461842297, 122.26470294308974, 33.003218436974976, 89.58521548366113, 74.11876741156487, 69.72659271267003, 33.19371632686711, 32.58694994422294, 31.739944576613375, 37.0962153516605, 38.53427899697058, 65.86001595622369, 31.996697115192738, 42.68750639816857, 32.12158248828688, 37.98140344033704, 36.12004496894355, 40.987820404806996, 39.58782812821316, 33.95795720392049, 35.08016619462618, 33.355017630396574, 33.436642615230234, 70.38845439719243, 52.07068590479302, 75.25915678487578, 25.756377621532955, 23.37182762644979, 22.103529436942832, 19.712117112549915, 31.37814873181012, 15.691735948081847, 15.750430839243618, 15.22319417355394, 15.203572009163763, 13.684593928064778, 12.408397668552295, 12.314625050445473, 11.93620584925629, 19.50866366970725, 11.683836203190186, 11.164997529684634, 10.899751604317872, 10.784379896638242, 10.692374954325805, 10.313571399657803, 10.276452834537062, 10.23113939797727, 10.102023770228167, 10.046073635686207, 9.952004216145854, 9.631622390258322, 8.595780134116474, 23.016338305921806, 13.680428201749926, 14.001572605951926, 14.741337483978478, 15.296462978174524, 107.38093756855288, 18.247870441522466, 22.300099537984874, 45.403720228896226, 32.03040446504983, 29.527781781689868, 26.769202444968315, 24.13772941655648, 45.80622499774442, 56.86843292417792, 34.39365129647326, 26.80634727570264, 32.239877986526565, 32.11709850029503, 33.655412450596096, 24.320380493438467, 45.065888404862136, 25.278166599123328, 41.285625728762874, 51.59316654354117, 21.728519512397202, 24.542484272968604, 27.877744417436364, 25.121250570433595, 28.213298137252036, 26.301299800371016, 24.941313606955568, 54.920884963710556, 54.15169248081331, 51.43604578063148, 50.52393104054989, 50.31681139062797, 20.842811546463523, 18.082934988789276, 14.393866431365359, 13.385670986390416, 12.817700237210717, 10.953669818043165, 10.43592679631181, 9.786503412562398, 9.390814884143357, 9.377724167004846, 8.588312007463365, 8.470512964515438, 7.7277347114068835, 7.690951730836412, 7.178073554922441, 6.988450325562194, 18.027030533115795, 6.872788358308701, 6.5613621321723, 6.160446344978639, 6.1199012341724, 6.0721620327062, 5.966356150218469, 9.563629761670338, 5.724715698825675, 14.445336809647491, 17.514583770490773, 35.4395608784109, 7.980293336783525, 19.68352859009696, 36.1979325616242, 10.299007567986699, 15.959370462112703, 14.556809102553748, 58.183174217080015, 81.18506804975483, 14.268582464583604, 20.778474863336687, 48.792959055445955, 19.585726101225287, 33.78185563805618, 28.824827956951193, 44.110160617916605, 37.40980537829026, 12.57827940396525, 14.306590684689208, 15.966748983565848, 18.560484350002103, 15.19368345401176, 15.307131606884145, 14.999406893869667, 14.75353356231445, 140.36099840896645, 55.61609485331428, 35.65773055684751, 27.949727860283147, 28.52161297855692, 27.614460042220124, 27.614460042220124, 27.614460042220124, 27.614460042220124, 27.614460042220124, 27.614460042220124, 27.614460042220124, 10.24249153164105, 8.595299107159901, 7.30704344507151, 6.659666169168228, 6.352983331479188, 5.797406845009084, 5.425425496058315, 5.275783986941017, 5.103137421659986, 4.3022791643934575, 4.088864025565194, 4.058039603544569, 3.8838247849761878, 3.8544853081548136, 3.7923726871282595, 3.7591915909452642, 3.5919147472501254, 3.383918069533523, 78.4853365034383, 44.63514067527891, 38.74275445079477, 28.230792172611626, 30.47466203061625, 9.089165771503653, 19.828829666778166, 6.703472052546084, 33.79578963470534, 22.765108257689914, 29.013025919109893, 42.89571589111437, 29.720065957057162, 29.534970844528868, 19.122131449645995, 39.83929501331275, 36.49860632659896, 21.965329999606762, 19.135311304491385, 17.679721470719393, 28.037734166900492, 17.56869723648195, 14.02603764016893, 12.290181814085004, 11.08490223215233, 10.346880904997207, 8.484094712630855, 8.322283535007472, 6.977286093977386, 6.942822468696283, 6.780380852217663, 6.419081826358887, 5.335548210487798, 5.058481845973261, 4.709177056387277, 4.637814667220758, 4.595471652664604, 4.539414400176265, 4.479574514556511, 4.439103629296558, 4.455185850389779, 4.387094342466535, 4.372701423401496, 4.287933985445708, 4.238331878627286, 4.277803655353615, 4.11695129299789, 4.089538989260676, 3.8295479240882826, 3.7454032500799275, 8.575065394818315, 17.847201001586424, 17.62060044512198, 29.122639398437492, 74.96713109204947, 22.750507724147287, 9.978541247644696, 11.211405544636296, 11.516517118677934, 7.087054818204885, 5.717736142555195, 8.583232593135973, 7.296930654151465, 6.624737559429287, 4.9920588081855914, 4.76527295751848], \"Total\": [319.0, 240.0, 141.0, 187.0, 239.0, 456.0, 228.0, 250.0, 193.0, 98.0, 191.0, 225.0, 326.0, 155.0, 263.0, 212.0, 99.0, 92.0, 148.0, 228.0, 56.0, 76.0, 117.0, 80.0, 71.0, 72.0, 157.0, 68.0, 93.0, 97.0, 148.77771931431315, 97.01162424789318, 75.92826515888342, 73.08888527661131, 66.4506560983043, 66.60046396211345, 60.65802650343682, 58.61954937610767, 32.008577152326964, 31.319680968374627, 29.321607992848904, 28.44510287486274, 27.87528954869875, 26.820305206544866, 35.020995660463406, 26.115863631188173, 25.66291505410768, 25.094123999135846, 24.908526229479122, 24.781643111380124, 37.41675779766587, 22.85637639382083, 21.540703401442734, 35.08715874368373, 225.09042193394765, 19.47213499165951, 19.117001226508094, 18.977110401971736, 18.41179085633913, 18.058841988201944, 31.304990796465656, 46.41747464636293, 49.791462038745095, 60.80970795330599, 28.182409407578064, 47.23420511221185, 159.08360465254214, 41.50725588406438, 117.28356090346563, 109.44640893792912, 456.2735817676916, 58.871569181008354, 53.189082993483744, 51.61456974669284, 62.81176688170687, 326.84281159478866, 56.90296420896022, 45.84740128242768, 311.41955205414536, 422.04392394785833, 155.999184423186, 263.594525067741, 235.8228914470093, 147.11896202733556, 207.13544567934358, 107.7014553177784, 156.68477985655784, 228.72868389860304, 191.81774561728008, 108.29188775786834, 99.16777129698252, 187.15474301344952, 92.49137024328185, 80.16568334323392, 57.0776926615375, 40.203138204621844, 34.883730313342554, 31.249658025705667, 30.53555018452969, 30.362393651338124, 29.785625256490682, 41.103307789595625, 30.969164242019772, 29.144730371660092, 28.35035211066834, 28.35035211066834, 28.35035211066834, 31.520458454860822, 28.760659825301733, 12.790473777835413, 74.60346059992683, 11.15679159914821, 10.136324785359966, 8.873457392415217, 7.609447398877293, 7.562426096602688, 7.799728085091354, 6.951623871372893, 6.83890960908518, 6.707397224029298, 6.450890907860526, 193.78574343699114, 93.04189687986081, 319.5732875755859, 40.38040680290056, 76.41438248009472, 85.55443815666526, 117.10989871724895, 41.07608793227951, 119.19496199274296, 75.15670659951478, 156.56639411173828, 45.79386019896837, 96.98043300674266, 222.9254520894037, 148.67140677166546, 194.04247124989203, 91.1966081714892, 108.29188775786834, 228.72868389860304, 60.016610773826656, 90.29841786124281, 124.55490765425387, 422.04392394785833, 70.69076750089474, 111.98916033781012, 60.08030151200488, 124.0981287674297, 133.55554066193477, 38.546709931385976, 30.207149106760482, 25.161591472243558, 24.617312604465244, 24.18704773056224, 23.953180187018464, 22.190940891878228, 20.158796405662734, 19.748087815188832, 19.761196220170675, 18.19141465542065, 17.736439700505834, 17.240006163546884, 78.69104821574855, 15.832812641089184, 14.713421567586778, 13.835383593512642, 14.216329687595021, 15.629740141371645, 13.1620635642251, 12.795433648583943, 12.169161162514598, 11.961155460320036, 11.833883869774887, 11.557570657124485, 12.139214330820511, 11.172335614485808, 13.552904803109485, 10.88559938152616, 10.71507371834419, 16.045859480567163, 16.968364217120037, 39.284889318496525, 24.10427847317592, 23.84846274263479, 42.060873751282074, 23.47718593743414, 54.146158417625045, 62.305632490141384, 26.94749108772479, 105.87412967728045, 228.9405842781385, 25.578801394717008, 150.39843209844616, 26.232849918774182, 60.48100854564494, 71.94043282647404, 40.66815452424297, 207.13544567934358, 44.65103480296601, 87.82635772980734, 68.22134162009118, 326.84281159478866, 56.13567651161231, 55.880280437732495, 99.16777129698252, 133.55554066193477, 250.13291170067018, 70.69076750089474, 107.90520911707077, 212.91604781993087, 194.04247124989203, 311.41955205414536, 422.04392394785833, 69.5089202277712, 72.8793088990599, 60.518095346184595, 60.467557948311274, 35.66389613060275, 33.77025143266705, 33.60980602592555, 32.747932113072096, 32.45009687104943, 32.02557373435243, 32.34926513032795, 30.688466406939746, 30.005140845259163, 31.269129229246126, 28.723950741858616, 28.308079315171327, 29.93340463864223, 27.960664849431726, 27.711714842437846, 27.65070834097781, 27.326499550481547, 27.215247768243003, 27.21528563618637, 27.072176499829236, 26.898366282333, 30.812059204075087, 30.190391460482168, 13.630896974927609, 13.585087440299855, 13.474644622217697, 99.47759492693224, 240.88123954916045, 239.7480150643435, 41.28074802667021, 250.13291170067018, 191.81774561728008, 37.840554569465034, 212.91604781993087, 157.82795754539598, 156.68477985655784, 40.85507841324656, 39.85311130930829, 37.91752743657425, 52.801421432662224, 58.756163201346226, 263.594525067741, 41.7129762076785, 124.0981287674297, 45.44753719086204, 133.55554066193477, 117.10989871724895, 422.04392394785833, 456.2735817676916, 86.11664673860359, 235.8228914470093, 93.67896676465412, 148.67140677166546, 71.09686727210554, 52.77222291091952, 76.28865051348728, 26.48038912345852, 24.073762731788502, 22.805298997758793, 20.414475945985064, 32.68259292378162, 16.393524518662378, 16.45505901276165, 15.92500436864598, 15.90534633391073, 14.387967414522024, 13.110752368976675, 13.016213979721902, 12.637863877274945, 20.672496167509095, 12.388348000201196, 11.866883976051641, 11.601453122225852, 11.489219723546167, 11.397293075273437, 11.01556718395347, 10.979728243559396, 10.932725620205666, 10.804578685657333, 10.748370204754362, 10.67077210516332, 10.333489866442845, 9.297014307225101, 25.04918376547699, 15.44308696815448, 16.17176395682071, 17.270671972870147, 18.382390040835126, 228.9405842781385, 23.411916521326887, 30.83363817262973, 82.86043432688372, 53.906289879091375, 50.89434806404046, 44.846942890638665, 38.85012634567483, 107.7014553177784, 194.04247124989203, 88.92846283107215, 56.664679597281584, 93.03194764571117, 97.42345905827258, 111.98916033781012, 55.146743867515404, 239.7480150643435, 60.515151215753065, 222.9254520894037, 422.04392394785833, 43.398129248596234, 68.52208389658684, 119.07116817809707, 91.1966081714892, 207.13544567934358, 311.41955205414536, 156.56639411173828, 55.65723638923987, 54.88836718079517, 52.166930612066906, 51.25514888345193, 51.048407867961004, 21.648323745993626, 18.812222298960194, 15.121213904375493, 14.114289394147095, 13.544982944965724, 11.681073369899178, 11.16325184890315, 10.513384499805683, 10.118107728932676, 10.10499773898593, 9.316576142902338, 9.202407718861043, 8.45593285546189, 8.426836583971124, 7.9094855983321235, 7.715554733982388, 19.91112851939676, 7.5998583752146, 7.2898442197568345, 6.888293805749109, 6.847449746582264, 6.802617617242841, 6.694582761958049, 10.741344698504252, 6.452028014139748, 16.303287106719218, 22.089124403662098, 52.12817238824241, 9.555468859552233, 31.932404314941376, 81.78433392796202, 13.895718964097268, 27.038423751816172, 24.6586995432065, 228.72868389860304, 456.2735817676916, 25.25482052005444, 50.89434806404046, 263.594525067741, 46.511154056387284, 157.82795754539598, 119.07116817809707, 326.84281159478866, 311.41955205414536, 20.684696297996204, 34.529337544901715, 60.77994703825192, 124.55490765425387, 56.13567651161231, 107.90520911707077, 240.88123954916045, 105.69288179092199, 141.1383813505538, 56.39303944438318, 36.43564820465017, 28.726667882065644, 29.318686650743114, 28.39145832479442, 28.39145832479442, 28.39145832479442, 28.39145832479442, 28.39145832479442, 28.39145832479442, 28.39145832479442, 11.022634570290393, 9.372232761336889, 8.083809210020942, 7.436708011150339, 7.12975841890563, 6.574326992814111, 6.204220093072891, 6.05519665988085, 5.8885475743302935, 5.080658522327727, 4.866244127458625, 4.838650114849788, 4.661579234861257, 4.6488011439890204, 4.575963832218192, 4.536472644134973, 4.373108599139135, 4.161068202060354, 98.61154850421572, 57.90822951651809, 54.801861897487534, 50.15175618902907, 57.0701625414944, 13.20293684372102, 36.542410546876226, 9.31964076527477, 97.42345905827258, 55.26918786347542, 83.42491485170444, 155.999184423186, 91.12321808609143, 107.90520911707077, 56.664679597281584, 250.13291170067018, 212.91604781993087, 82.86043432688372, 64.8787675565016, 79.85353211765046, 28.769665669558375, 18.30138941024381, 14.761513947897871, 13.022112569653354, 11.81724050586499, 11.087622195125343, 9.214296311124322, 9.052709287514844, 7.7074334820376915, 7.6729342089052714, 7.511039059899357, 7.150259923271719, 6.065828051388285, 5.791294887348551, 5.441724880702404, 5.370476811841055, 5.325531669914187, 5.2712542842363135, 5.212798655573998, 5.170669534857444, 5.191663392842556, 5.118540432402196, 5.10278317180564, 5.018695681359401, 4.969940573000373, 5.0184031378419816, 4.8471144700207764, 4.8213123057108485, 4.559722371263768, 4.475733246314823, 10.787920862939668, 29.190951027117656, 30.265679279402793, 68.52208389658684, 319.5732875755859, 89.32442434823612, 31.106165594558398, 41.71250037375273, 52.80961980030166, 18.51294158248753, 11.268146767599955, 93.04189687986081, 47.33443239774153, 107.90520911707077, 47.16565553292087, 53.906289879091375], \"Category\": [\"Default\", \"Default\", \"Default\", \"Default\", \"Default\", \"Default\", \"Default\", \"Default\", \"Default\", \"Default\", \"Default\", \"Default\", \"Default\", \"Default\", \"Default\", \"Default\", \"Default\", \"Default\", \"Default\", \"Default\", \"Default\", \"Default\", \"Default\", \"Default\", \"Default\", \"Default\", \"Default\", \"Default\", \"Default\", \"Default\", \"Topic1\", \"Topic1\", \"Topic1\", \"Topic1\", \"Topic1\", \"Topic1\", \"Topic1\", \"Topic1\", \"Topic1\", \"Topic1\", \"Topic1\", \"Topic1\", \"Topic1\", \"Topic1\", \"Topic1\", \"Topic1\", \"Topic1\", \"Topic1\", \"Topic1\", \"Topic1\", \"Topic1\", \"Topic1\", \"Topic1\", \"Topic1\", \"Topic1\", \"Topic1\", \"Topic1\", \"Topic1\", \"Topic1\", \"Topic1\", \"Topic1\", \"Topic1\", \"Topic1\", \"Topic1\", \"Topic1\", \"Topic1\", \"Topic1\", \"Topic1\", \"Topic1\", \"Topic1\", \"Topic1\", \"Topic1\", \"Topic1\", \"Topic1\", \"Topic1\", \"Topic1\", \"Topic1\", \"Topic1\", \"Topic1\", \"Topic1\", \"Topic1\", \"Topic1\", \"Topic1\", \"Topic1\", \"Topic1\", \"Topic1\", \"Topic1\", \"Topic1\", \"Topic1\", \"Topic1\", \"Topic1\", \"Topic2\", \"Topic2\", \"Topic2\", \"Topic2\", \"Topic2\", \"Topic2\", \"Topic2\", \"Topic2\", \"Topic2\", \"Topic2\", \"Topic2\", \"Topic2\", \"Topic2\", \"Topic2\", \"Topic2\", \"Topic2\", \"Topic2\", \"Topic2\", \"Topic2\", \"Topic2\", \"Topic2\", \"Topic2\", \"Topic2\", \"Topic2\", \"Topic2\", \"Topic2\", \"Topic2\", \"Topic2\", \"Topic2\", \"Topic2\", \"Topic2\", \"Topic2\", \"Topic2\", \"Topic2\", \"Topic2\", \"Topic2\", \"Topic2\", \"Topic2\", \"Topic2\", \"Topic2\", \"Topic2\", \"Topic2\", \"Topic2\", \"Topic2\", \"Topic2\", \"Topic2\", \"Topic2\", \"Topic2\", \"Topic2\", \"Topic2\", \"Topic2\", \"Topic2\", \"Topic2\", \"Topic2\", \"Topic2\", \"Topic2\", \"Topic2\", \"Topic2\", \"Topic3\", \"Topic3\", \"Topic3\", \"Topic3\", \"Topic3\", \"Topic3\", \"Topic3\", \"Topic3\", \"Topic3\", \"Topic3\", \"Topic3\", \"Topic3\", \"Topic3\", \"Topic3\", \"Topic3\", \"Topic3\", \"Topic3\", \"Topic3\", \"Topic3\", \"Topic3\", \"Topic3\", \"Topic3\", \"Topic3\", \"Topic3\", \"Topic3\", \"Topic3\", \"Topic3\", \"Topic3\", \"Topic3\", \"Topic3\", \"Topic3\", \"Topic3\", \"Topic3\", \"Topic3\", \"Topic3\", \"Topic3\", \"Topic3\", \"Topic3\", \"Topic3\", \"Topic3\", \"Topic3\", \"Topic3\", \"Topic3\", \"Topic3\", \"Topic3\", \"Topic3\", \"Topic3\", \"Topic3\", \"Topic3\", \"Topic3\", \"Topic3\", \"Topic3\", \"Topic3\", \"Topic3\", \"Topic3\", \"Topic3\", \"Topic3\", \"Topic3\", \"Topic3\", \"Topic3\", \"Topic3\", \"Topic3\", \"Topic3\", \"Topic3\", \"Topic3\", \"Topic4\", \"Topic4\", \"Topic4\", \"Topic4\", \"Topic4\", \"Topic4\", \"Topic4\", \"Topic4\", \"Topic4\", \"Topic4\", \"Topic4\", \"Topic4\", \"Topic4\", \"Topic4\", \"Topic4\", \"Topic4\", \"Topic4\", \"Topic4\", \"Topic4\", \"Topic4\", \"Topic4\", \"Topic4\", \"Topic4\", \"Topic4\", \"Topic4\", \"Topic4\", \"Topic4\", \"Topic4\", \"Topic4\", \"Topic4\", \"Topic4\", \"Topic4\", \"Topic4\", \"Topic4\", \"Topic4\", \"Topic4\", \"Topic4\", \"Topic4\", \"Topic4\", \"Topic4\", \"Topic4\", \"Topic4\", \"Topic4\", \"Topic4\", \"Topic4\", \"Topic4\", \"Topic4\", \"Topic4\", \"Topic4\", \"Topic4\", \"Topic4\", \"Topic4\", \"Topic4\", \"Topic4\", \"Topic4\", \"Topic4\", \"Topic5\", \"Topic5\", \"Topic5\", \"Topic5\", \"Topic5\", \"Topic5\", \"Topic5\", \"Topic5\", \"Topic5\", \"Topic5\", \"Topic5\", \"Topic5\", \"Topic5\", \"Topic5\", \"Topic5\", \"Topic5\", \"Topic5\", \"Topic5\", \"Topic5\", \"Topic5\", \"Topic5\", \"Topic5\", \"Topic5\", \"Topic5\", \"Topic5\", \"Topic5\", \"Topic5\", \"Topic5\", \"Topic5\", \"Topic5\", \"Topic5\", \"Topic5\", \"Topic5\", \"Topic5\", \"Topic5\", \"Topic5\", \"Topic5\", \"Topic5\", \"Topic5\", \"Topic5\", \"Topic5\", \"Topic5\", \"Topic5\", \"Topic5\", \"Topic5\", \"Topic5\", \"Topic5\", \"Topic5\", \"Topic5\", \"Topic5\", \"Topic5\", \"Topic5\", \"Topic5\", \"Topic5\", \"Topic5\", \"Topic5\", \"Topic5\", \"Topic5\", \"Topic5\", \"Topic5\", \"Topic5\", \"Topic5\", \"Topic6\", \"Topic6\", \"Topic6\", \"Topic6\", \"Topic6\", \"Topic6\", \"Topic6\", \"Topic6\", \"Topic6\", \"Topic6\", \"Topic6\", \"Topic6\", \"Topic6\", \"Topic6\", \"Topic6\", \"Topic6\", \"Topic6\", \"Topic6\", \"Topic6\", \"Topic6\", \"Topic6\", \"Topic6\", \"Topic6\", \"Topic6\", \"Topic6\", \"Topic6\", \"Topic6\", \"Topic6\", \"Topic6\", \"Topic6\", \"Topic6\", \"Topic6\", \"Topic6\", \"Topic6\", \"Topic6\", \"Topic6\", \"Topic6\", \"Topic6\", \"Topic6\", \"Topic6\", \"Topic6\", \"Topic6\", \"Topic6\", \"Topic6\", \"Topic6\", \"Topic6\", \"Topic6\", \"Topic6\", \"Topic6\", \"Topic6\", \"Topic6\", \"Topic6\", \"Topic6\", \"Topic6\", \"Topic6\", \"Topic6\", \"Topic6\", \"Topic7\", \"Topic7\", \"Topic7\", \"Topic7\", \"Topic7\", \"Topic7\", \"Topic7\", \"Topic7\", \"Topic7\", \"Topic7\", \"Topic7\", \"Topic7\", \"Topic7\", \"Topic7\", \"Topic7\", \"Topic7\", \"Topic7\", \"Topic7\", \"Topic7\", \"Topic7\", \"Topic7\", \"Topic7\", \"Topic7\", \"Topic7\", \"Topic7\", \"Topic7\", \"Topic7\", \"Topic7\", \"Topic7\", \"Topic7\", \"Topic7\", \"Topic7\", \"Topic7\", \"Topic7\", \"Topic7\", \"Topic7\", \"Topic7\", \"Topic7\", \"Topic7\", \"Topic7\", \"Topic7\", \"Topic7\", \"Topic7\", \"Topic7\", \"Topic7\", \"Topic7\", \"Topic7\", \"Topic7\", \"Topic7\", \"Topic7\", \"Topic8\", \"Topic8\", \"Topic8\", \"Topic8\", \"Topic8\", \"Topic8\", \"Topic8\", \"Topic8\", \"Topic8\", \"Topic8\", \"Topic8\", \"Topic8\", \"Topic8\", \"Topic8\", \"Topic8\", \"Topic8\", \"Topic8\", \"Topic8\", \"Topic8\", \"Topic8\", \"Topic8\", \"Topic8\", \"Topic8\", \"Topic8\", \"Topic8\", \"Topic8\", \"Topic8\", \"Topic8\", \"Topic8\", \"Topic8\", \"Topic8\", \"Topic8\", \"Topic8\", \"Topic8\", \"Topic8\", \"Topic8\", \"Topic8\", \"Topic8\", \"Topic8\", \"Topic8\", \"Topic8\", \"Topic8\", \"Topic8\", \"Topic8\", \"Topic8\", \"Topic8\"], \"logprob\": [30.0, 29.0, 28.0, 27.0, 26.0, 25.0, 24.0, 23.0, 22.0, 21.0, 20.0, 19.0, 18.0, 17.0, 16.0, 15.0, 14.0, 13.0, 12.0, 11.0, 10.0, 9.0, 8.0, 7.0, 6.0, 5.0, 4.0, 3.0, 2.0, 1.0, -4.1292, -4.5592, -4.8063, -4.8448, -4.941, -4.9387, -5.0332, -5.0679, -5.6831, -5.7053, -5.7728, -5.804, -5.8249, -5.8649, -5.5983, -5.8917, -5.9097, -5.9327, -5.9404, -5.9456, -5.5354, -6.0297, -6.0902, -5.6032, -3.7457, -6.1949, -6.214, -6.2215, -6.2532, -6.2731, -5.7238, -5.3506, -5.2863, -5.1, -5.8389, -5.3477, -4.2232, -5.4803, -4.5371, -4.6126, -3.3621, -5.1753, -5.2702, -5.297, -5.1402, -3.7581, -5.2419, -5.4257, -3.9667, -3.7489, -4.5262, -4.1649, -4.25, -4.6708, -4.52, -5.0405, -4.967, -4.8763, -4.9537, -5.1405, -5.1901, -3.1919, -3.9009, -4.0452, -4.3889, -4.7452, -4.8901, -5.0028, -5.0265, -5.0325, -5.052, -4.7302, -5.0133, -5.0743, -5.1027, -5.1027, -5.1027, -4.9969, -5.0904, -5.9337, -4.1764, -6.0844, -6.1833, -6.3283, -6.4983, -6.505, -6.4742, -6.5993, -6.6179, -6.6397, -6.6839, -3.3277, -4.0546, -2.9648, -4.9332, -4.3532, -4.2514, -4.0342, -4.9925, -4.0845, -4.4939, -3.912, -4.9141, -4.4022, -3.8576, -4.1212, -4.0322, -4.4594, -4.4343, -4.1323, -4.756, -4.5947, -4.472, -4.0017, -4.7113, -4.5506, -4.7763, -4.6566, -4.6972, -4.7311, -4.9798, -5.1673, -5.1899, -5.208, -5.218, -5.2968, -5.3961, -5.4174, -5.4168, -5.5027, -5.529, -5.5587, -4.0405, -5.6475, -5.7244, -5.7892, -5.7631, -5.6691, -5.8419, -5.8716, -5.9248, -5.9433, -5.9544, -5.9796, -5.9322, -6.0157, -5.8244, -6.0438, -6.0604, -5.6598, -5.6056, -4.7977, -5.2789, -5.2949, -4.7662, -5.3139, -4.5423, -4.4333, -5.2236, -4.13, -3.5715, -5.315, -4.0326, -5.3033, -4.7082, -4.6075, -5.0181, -4.0381, -5.007, -4.6777, -4.8659, -4.1878, -4.9716, -4.9951, -4.8471, -4.7972, -4.6386, -5.0556, -4.9968, -4.8799, -5.01, -4.9709, -4.9735, -5.1288, -4.0124, -4.2005, -4.2041, -4.7388, -4.7942, -4.7991, -4.8257, -4.8351, -4.8486, -4.8394, -4.8924, -4.9154, -4.8743, -4.9603, -4.9752, -4.9195, -4.9879, -4.9972, -4.9994, -5.0115, -5.0157, -5.0157, -5.0212, -5.0278, -4.9011, -4.9285, -5.7372, -5.7407, -5.7494, -3.7594, -2.8797, -3.059, -4.702, -3.2088, -3.4842, -4.7938, -3.7952, -3.9847, -4.0458, -4.788, -4.8065, -4.8328, -4.6769, -4.6389, -4.1029, -4.8248, -4.5365, -4.8209, -4.6533, -4.7036, -4.5771, -4.6119, -4.7653, -4.7328, -4.7832, -4.7808, -3.9782, -4.2797, -3.9113, -4.9836, -5.0807, -5.1365, -5.251, -4.7862, -5.4791, -5.4754, -5.5094, -5.5107, -5.616, -5.7139, -5.7215, -5.7527, -5.2614, -5.7741, -5.8195, -5.8435, -5.8542, -5.8627, -5.8988, -5.9024, -5.9068, -5.9195, -5.9251, -5.9345, -5.9672, -6.081, -5.0961, -5.6163, -5.5931, -5.5416, -5.5046, -3.5559, -5.3282, -5.1277, -4.4167, -4.7656, -4.8469, -4.945, -5.0485, -4.4078, -4.1915, -4.6944, -4.9436, -4.7591, -4.7629, -4.7161, -5.0409, -4.4241, -5.0023, -4.5117, -4.2889, -5.1536, -5.0319, -4.9044, -5.0085, -4.8925, -4.9626, -5.0157, -3.9206, -3.9347, -3.9861, -4.004, -4.0081, -4.8895, -5.0315, -5.2597, -5.3323, -5.3757, -5.5328, -5.5812, -5.6455, -5.6867, -5.6881, -5.7761, -5.7899, -5.8817, -5.8864, -5.9555, -5.9822, -5.0346, -5.9989, -6.0453, -6.1083, -6.1149, -6.1228, -6.1403, -5.6685, -6.1817, -5.2561, -5.0634, -4.3587, -5.8495, -4.9467, -4.3375, -5.5944, -5.1564, -5.2484, -3.8629, -3.5298, -5.2684, -4.8926, -4.0389, -4.9517, -4.4066, -4.5652, -4.1398, -4.3045, -5.3945, -5.2658, -5.156, -5.0054, -5.2056, -5.1982, -5.2185, -5.235, -2.5757, -3.5014, -3.9459, -4.1895, -4.1692, -4.2015, -4.2015, -4.2015, -4.2015, -4.2015, -4.2015, -4.2015, -5.1933, -5.3687, -5.531, -5.6238, -5.671, -5.7625, -5.8288, -5.8568, -5.89, -6.0607, -6.1116, -6.1192, -6.1631, -6.1706, -6.1869, -6.1957, -6.2412, -6.3009, -3.157, -3.7214, -3.8629, -4.1795, -4.103, -5.3128, -4.5327, -5.6173, -3.9996, -4.3947, -4.1521, -3.7611, -4.1281, -4.1343, -4.569, -3.835, -3.9226, -4.4304, -4.5684, -4.6475, -3.7374, -4.2048, -4.43, -4.5622, -4.6654, -4.7343, -4.9328, -4.952, -5.1283, -5.1332, -5.1569, -5.2117, -5.3966, -5.4499, -5.5214, -5.5367, -5.5459, -5.5582, -5.5714, -5.5805, -5.5769, -5.5923, -5.5956, -5.6151, -5.6268, -5.6175, -5.6558, -5.6625, -5.7282, -5.7504, -4.9221, -4.1891, -4.2019, -3.6994, -2.7539, -3.9464, -4.7705, -4.654, -4.6272, -5.1127, -5.3274, -4.9211, -5.0835, -5.1801, -5.4631, -5.5096], \"loglift\": [30.0, 29.0, 28.0, 27.0, 26.0, 25.0, 24.0, 23.0, 22.0, 21.0, 20.0, 19.0, 18.0, 17.0, 16.0, 15.0, 14.0, 13.0, 12.0, 11.0, 10.0, 9.0, 8.0, 7.0, 6.0, 5.0, 4.0, 3.0, 2.0, 1.0, 1.2281, 1.2256, 1.2236, 1.2232, 1.2223, 1.2223, 1.2212, 1.2207, 1.2106, 1.2101, 1.2085, 1.2077, 1.207, 1.2057, 1.2055, 1.2054, 1.205, 1.2044, 1.2041, 1.2039, 1.2022, 1.2007, 1.1995, 1.1987, 1.1975, 1.1958, 1.1951, 1.1949, 1.1935, 1.193, 1.1921, 1.1714, 1.1655, 1.1519, 1.1821, 1.1568, 1.067, 1.1535, 1.058, 1.0517, 0.8745, 1.109, 1.1157, 1.1188, 1.0794, 0.8121, 1.0764, 1.1086, 0.6519, 0.5657, 0.7836, 0.6204, 0.6466, 0.6976, 0.5063, 0.6398, 0.3384, 0.0508, 0.1494, 0.5343, 0.5728, 1.9359, 1.9317, 1.9303, 1.9264, 1.9206, 1.9175, 1.9149, 1.9143, 1.914, 1.9137, 1.9134, 1.9133, 1.9131, 1.9123, 1.9123, 1.9123, 1.9121, 1.9102, 1.8773, 1.8711, 1.8632, 1.8602, 1.8483, 1.832, 1.8315, 1.8314, 1.8214, 1.8192, 1.8168, 1.8116, 1.7652, 1.772, 1.6279, 1.7281, 1.6703, 1.6592, 1.5624, 1.6518, 1.4944, 1.5462, 1.3942, 1.6215, 1.3829, 1.0953, 1.2367, 1.0594, 1.3872, 1.2406, 0.7949, 1.5091, 1.2619, 1.0629, 0.3129, 1.39, 1.0906, 1.4877, 0.882, 0.768, 1.9767, 1.9718, 1.9671, 1.9664, 1.9659, 1.9656, 1.9632, 1.9599, 1.9592, 1.9592, 1.956, 1.955, 1.9538, 1.9536, 1.9501, 1.9465, 1.9433, 1.9422, 1.9414, 1.9405, 1.939, 1.936, 1.9347, 1.9343, 1.9327, 1.931, 1.9305, 1.9287, 1.9285, 1.9277, 1.9244, 1.9228, 1.8912, 1.8983, 1.893, 1.8544, 1.8898, 1.8257, 1.7943, 1.8422, 1.5675, 1.3547, 1.8029, 1.3138, 1.7894, 1.5492, 1.4763, 1.6361, 0.9882, 1.5538, 1.2067, 1.2711, 0.3824, 1.3603, 1.3414, 0.9158, 0.668, 0.1991, 1.0458, 0.6816, 0.1189, 0.0816, -0.3523, -0.659, 0.9894, 2.0585, 2.0563, 2.0535, 2.0467, 2.0459, 2.0458, 2.0451, 2.0449, 2.0446, 2.0436, 2.0434, 2.0429, 2.0428, 2.0416, 2.0413, 2.0412, 2.041, 2.0407, 2.0406, 2.0403, 2.0402, 2.0402, 2.0399, 2.0398, 2.0307, 2.0236, 2.0101, 2.01, 2.0094, 2.0004, 1.9957, 1.8211, 1.9373, 1.6288, 1.6189, 1.9325, 1.2036, 1.3134, 1.2596, 1.8616, 1.868, 1.8914, 1.7162, 1.6474, 0.6824, 1.8041, 1.0021, 1.7222, 0.8118, 0.893, -0.2626, -0.3753, 1.1387, 0.1638, 1.0366, 0.5772, 2.1174, 2.114, 2.1138, 2.0997, 2.0978, 2.0962, 2.0924, 2.0867, 2.0837, 2.0836, 2.0823, 2.0823, 2.0773, 2.0724, 2.072, 2.0703, 2.0695, 2.0689, 2.0664, 2.065, 2.0641, 2.0636, 2.0616, 2.0612, 2.0611, 2.0602, 2.0598, 2.0577, 2.0571, 2.049, 2.0428, 2.0062, 1.9833, 1.9691, 1.9436, 1.3703, 1.8782, 1.8034, 1.5259, 1.6069, 1.583, 1.6114, 1.6515, 1.2725, 0.9001, 1.1775, 1.3789, 1.0677, 1.0177, 0.9252, 1.3087, 0.456, 1.2545, 0.4411, 0.0257, 1.4356, 1.1007, 0.6755, 0.8381, 0.1338, -0.3441, 0.2905, 2.4199, 2.4197, 2.4191, 2.4188, 2.4188, 2.3953, 2.3937, 2.3839, 2.3802, 2.378, 2.3689, 2.3658, 2.3616, 2.3586, 2.3585, 2.3518, 2.3503, 2.3431, 2.3418, 2.3362, 2.3342, 2.3338, 2.3326, 2.3279, 2.3215, 2.3209, 2.3196, 2.318, 2.3171, 2.3136, 2.3122, 2.2011, 2.0473, 2.2531, 1.9494, 1.6181, 2.1337, 1.906, 1.9061, 1.0643, 0.7068, 1.8622, 1.5374, 0.7464, 1.5683, 0.8916, 1.0147, 0.4304, 0.314, 1.9358, 1.5521, 1.0964, 0.5295, 1.1263, 0.4803, -0.3431, 0.4641, 2.8343, 2.8259, 2.8182, 2.8124, 2.8122, 2.812, 2.812, 2.812, 2.812, 2.812, 2.812, 2.812, 2.7664, 2.7533, 2.7388, 2.7294, 2.7244, 2.714, 2.7057, 2.702, 2.6966, 2.6735, 2.6657, 2.6639, 2.6573, 2.6524, 2.652, 2.6518, 2.643, 2.6331, 2.6115, 2.5795, 2.493, 2.2652, 2.2124, 2.4664, 2.2285, 2.5103, 1.7811, 1.9528, 1.7836, 1.5487, 1.7194, 1.5441, 1.7535, 1.0027, 1.0762, 1.5121, 1.6188, 1.332, 3.263, 3.2479, 3.2376, 3.2309, 3.2248, 3.2196, 3.2062, 3.2046, 3.1892, 3.1887, 3.1864, 3.1809, 3.1604, 3.1534, 3.1441, 3.1421, 3.1413, 3.1393, 3.1371, 3.1362, 3.1357, 3.1345, 3.1343, 3.1314, 3.1295, 3.1291, 3.1255, 3.1241, 3.1142, 3.1106, 3.0592, 2.7967, 2.7478, 2.4331, 1.8388, 1.921, 2.1518, 1.9749, 1.7658, 2.3285, 2.6103, 0.9055, 1.4189, 0.4983, 1.0429, 0.8628]}, \"token.table\": {\"Topic\": [5, 1, 3, 7, 8, 3, 6, 6, 4, 4, 1, 2, 3, 7, 2, 4, 1, 2, 4, 1, 5, 2, 3, 3, 8, 1, 4, 5, 6, 2, 1, 2, 3, 4, 5, 7, 8, 2, 3, 1, 5, 6, 8, 8, 7, 1, 2, 3, 4, 7, 8, 2, 3, 5, 6, 8, 2, 3, 5, 6, 2, 3, 5, 1, 1, 2, 2, 8, 4, 6, 7, 5, 7, 2, 7, 2, 3, 4, 2, 4, 6, 7, 1, 3, 5, 6, 1, 7, 4, 6, 7, 1, 6, 3, 4, 5, 6, 7, 1, 2, 3, 4, 6, 1, 2, 7, 8, 1, 5, 2, 8, 6, 8, 8, 7, 5, 1, 4, 5, 7, 3, 4, 1, 1, 4, 7, 1, 2, 3, 5, 7, 5, 6, 6, 4, 5, 1, 2, 5, 3, 1, 3, 5, 4, 3, 1, 2, 3, 4, 5, 6, 7, 1, 5, 3, 2, 6, 1, 4, 6, 6, 1, 6, 8, 3, 6, 7, 3, 5, 7, 8, 3, 8, 2, 2, 5, 8, 1, 2, 5, 8, 3, 8, 4, 5, 8, 3, 4, 2, 2, 3, 3, 4, 5, 3, 8, 1, 2, 4, 5, 1, 3, 6, 8, 7, 1, 6, 7, 1, 3, 5, 6, 4, 6, 2, 5, 3, 1, 4, 5, 6, 7, 3, 4, 1, 4, 1, 3, 4, 5, 2, 3, 6, 2, 3, 6, 3, 5, 2, 5, 6, 1, 3, 5, 6, 6, 5, 1, 3, 1, 2, 4, 5, 6, 6, 7, 1, 6, 7, 5, 3, 4, 1, 2, 3, 5, 6, 7, 8, 2, 1, 2, 4, 4, 5, 6, 3, 6, 7, 5, 5, 6, 6, 4, 5, 1, 3, 5, 4, 5, 7, 1, 1, 3, 4, 5, 8, 1, 1, 1, 2, 3, 7, 2, 4, 1, 6, 1, 6, 6, 1, 2, 4, 5, 6, 1, 4, 6, 1, 2, 3, 4, 5, 7, 1, 2, 4, 6, 3, 8, 6, 3, 1, 3, 4, 5, 7, 8, 1, 4, 6, 8, 5, 8, 1, 5, 6, 7, 5, 7, 1, 6, 1, 3, 5, 7, 1, 1, 2, 4, 6, 6, 4, 6, 1, 4, 1, 7, 8, 1, 2, 4, 1, 3, 5, 6, 7, 5, 6, 1, 2, 6, 5, 1, 2, 4, 5, 6, 1, 3, 5, 8, 1, 7, 5, 2, 4, 5, 6, 2, 5, 1, 1, 7, 3, 4, 6, 4, 3, 8, 8, 3, 7, 8, 8, 2, 6, 8, 5, 1, 4, 5, 7, 4, 7, 6, 3, 4, 5, 6, 1, 5, 6, 5, 2, 3, 4, 8, 7, 8, 4, 2, 5, 8, 4, 6, 8, 8, 2, 3, 3, 4, 5, 7, 2, 4, 7, 8, 1, 5, 6, 6, 2, 4, 6, 6, 8, 2, 5, 4, 8, 4, 6, 5, 8, 2, 1, 2, 4, 2, 3, 8, 4, 6, 4, 2, 7, 1, 6, 7, 3, 2, 4, 5, 2, 3, 6, 1, 5, 7, 8, 1, 6, 3, 6, 8, 2, 2, 1, 4, 5, 6, 5, 6, 8, 2, 3, 1, 3, 4, 5, 8, 1, 7, 2, 3, 4, 5, 6, 1, 2, 5, 5, 1, 3, 5, 3, 1, 4, 1, 2, 3, 4, 5, 4, 1, 7, 7, 1, 5, 8, 1, 3, 5, 7, 5, 1, 8, 1, 2, 4, 5, 5, 2, 2, 2, 6, 7, 4, 3, 5, 8, 1, 8, 4, 1, 3, 5, 1, 3, 4, 6, 5, 3, 2, 5, 6, 1, 2, 7, 1, 1, 1, 3, 7, 3, 5, 1, 8, 1, 3, 5, 6, 1, 5, 6, 2, 5, 7, 7, 4, 8, 4, 2, 4, 5, 7, 8, 1, 4, 1, 2, 3, 1, 4, 1, 3, 4, 6, 1, 3, 5, 1, 2, 6, 3, 7, 3, 2, 3, 5, 5, 5, 1, 2, 1, 4, 6, 3, 3, 2, 8, 2, 6, 1, 2, 3, 4, 5, 1, 4, 5, 6, 2, 2, 3, 4, 5, 6, 7, 8, 7, 7, 3, 4, 5, 7, 8, 5, 2, 3, 5, 2, 4, 1, 6, 1, 4, 6, 7, 4, 7, 5, 4, 1, 2, 3, 4, 6, 1, 7, 5, 1, 3, 4, 7, 3, 7, 3, 1, 2, 3, 5, 6, 1, 2, 2, 8, 2, 4, 7, 1, 2, 3, 4, 5, 6, 7, 4, 1, 1, 3, 5, 6, 7, 1, 2, 7, 8, 5, 4, 6, 1, 3, 4, 6, 4, 7, 1, 3, 4, 6, 7, 1], \"Freq\": [0.9853668678648795, 0.17654904637619287, 0.8185455786532578, 0.9072241247072884, 0.9485408463318684, 0.9515121914838338, 0.8820134156580524, 0.9794624766619018, 0.9771914214437277, 0.9764668473243604, 0.18308829555061482, 0.6324868391748512, 0.16644390504601347, 0.9891302548937663, 0.9876420543455438, 0.9818563062977762, 0.030962029990358308, 0.8411351480714007, 0.12384811996143323, 0.9583136502115506, 0.03194378834038502, 0.3359384629312914, 0.64948102833383, 0.5941789396886306, 0.3781138707109467, 0.12227280604630571, 0.36681841813891713, 0.061136403023152854, 0.44018210176670053, 0.9731576885431371, 0.033585438942257684, 0.04478058525634358, 0.15673204839720253, 0.21270777996763202, 0.10075631682677305, 0.19031748733946022, 0.2574883652239756, 0.9946873936239738, 0.9039242601112034, 0.25442241530225723, 0.40283549089524057, 0.23322054736040243, 0.10600933970927384, 0.7838859432831015, 0.986212109278918, 0.1752930923583117, 0.5774360689450267, 0.16498173398429336, 0.02062271674803667, 0.02062271674803667, 0.030934075122055003, 0.4286129108853948, 0.15180040593857733, 0.30360081187715465, 0.08036492079101153, 0.0357177425737829, 0.5701966448381219, 0.09868788083736726, 0.27413300232602017, 0.043861280372163226, 0.13378838362809425, 0.2452787033181728, 0.6020477263264241, 0.9843522142696808, 0.31933277928060444, 0.6785821559712845, 0.6429593496248451, 0.32147967481242257, 0.8720802423606376, 0.10570669604371365, 0.960283448905318, 0.9680527212920089, 0.8266768427260373, 0.8974671839368376, 0.986212109278918, 0.5799908736240706, 0.38194520945975385, 0.028292237737759546, 0.2713989580786428, 0.2894922219505523, 0.01809326387190952, 0.41614506905391896, 0.48277589415963695, 0.3669096795613241, 0.13517725036469835, 0.009655517883192738, 0.9415702696634641, 0.8741327830952296, 0.9666014555343811, 0.8148806476464874, 0.1810845883658861, 0.9947726089773556, 0.8762386321994918, 0.953834737618845, 0.231200446077167, 0.24661380914897812, 0.21578708300535587, 0.29285389836441156, 0.09634305244166082, 0.4174865605805302, 0.13648599095901948, 0.20071469258679336, 0.15254316636596296, 0.4986523101410838, 0.4986523101410838, 0.8604368903092507, 0.893708310988702, 0.9315283256163934, 0.06351329492839046, 0.18539253535597475, 0.8342664091018863, 0.9416942819951608, 0.8772463922822924, 0.8252332443848504, 0.7209687162816867, 0.9646880754408028, 0.9877744453012197, 0.17647677655764488, 0.47648729670564116, 0.3353058754595252, 0.993142381426716, 0.9861295677224622, 0.9895721336928842, 0.3388633298281471, 0.6360204036774454, 0.020853127989424437, 0.2600781063371403, 0.6376108413426665, 0.10067539600147367, 0.7688392355065444, 0.21356645430737345, 0.9481570872295645, 0.9660201196183519, 0.9258515942261053, 0.10879978041795149, 0.8159983531346361, 0.15285891972386495, 0.7206206215553633, 0.10918494265990354, 0.9332646944724249, 0.2314776214327547, 0.644830516848388, 0.11573881071637734, 0.9603956298143964, 0.9602065287541633, 0.5587317779255789, 0.0224777152039026, 0.09633306515958256, 0.08348865647163822, 0.08348865647163822, 0.11881078036348516, 0.032111021719860855, 0.360359188421497, 0.6177586087225663, 0.9186448673621866, 0.3757938137588069, 0.6263230229313448, 0.16781348722634287, 0.7671473701775674, 0.04794671063609796, 0.9881913578201498, 0.3959640098039566, 0.5543496137255391, 0.8296496361088239, 0.9295342189469408, 0.21460054634853024, 0.7511019122198559, 0.18971985760998644, 0.3648458800192047, 0.014593835200768188, 0.4232212208222775, 0.3768291067249326, 0.6166294473680716, 0.9876420543455438, 0.73222640657866, 0.031291726776865814, 0.2346879508264936, 0.18550710914124138, 0.12985497639886898, 0.5936227492519724, 0.09275355457062069, 0.9061541958338988, 0.7673421254670629, 0.9569316397210513, 0.948517153222648, 0.030597327523311225, 0.9127010387173532, 0.08297282170157756, 0.9600105055652862, 0.9735520732166042, 0.9517571059121512, 0.029197322022129536, 0.7799856025911748, 0.1876970701422613, 0.8950679916054631, 0.8682160557764661, 0.25559723167455917, 0.49774197747150994, 0.22196601698053822, 0.026904971755216753, 0.5142799856544908, 0.34285332376966055, 0.14117489802280142, 0.8048385974130842, 0.7872995168680184, 0.9439369336740318, 0.020083764546255996, 0.020083764546255996, 0.03693706180545918, 0.8495524215255611, 0.01846853090272959, 0.09234265451364794, 0.9747962685089965, 0.9511684843434413, 0.9607225609205425, 0.957419238615173, 0.9117111417556419, 0.3116574952005336, 0.011986826738482061, 0.2397365347696412, 0.08390778716937443, 0.3476179754159798, 0.8005230108441567, 0.15248057349412508, 0.9851019033538365, 0.9553454756113056, 0.037109206075793946, 0.8535117397432608, 0.037109206075793946, 0.037109206075793946, 0.930104087280238, 0.934820600801485, 0.9838150189844598, 0.9876420543455438, 0.8909277996494426, 0.07636523996995222, 0.5285214082139227, 0.4673701708999151, 0.863107686925968, 0.58945641591186, 0.41261949113830204, 0.1252678036897133, 0.5189666152859551, 0.2863264084336304, 0.053686201581305694, 0.96023999813723, 0.9495275559644273, 0.8314571568228363, 0.16446405299792366, 0.555501627497585, 0.15265693580086306, 0.1484164653619502, 0.08904987921717013, 0.055126115705867215, 0.9460813060776148, 0.8257370124950469, 0.8611150698592995, 0.1230164385513285, 0.017573776935904072, 0.9686521560263814, 0.986078533773708, 0.977565955958488, 0.47713105083406576, 0.03290558971269419, 0.08226397428173547, 0.09871676913808257, 0.2632447177015535, 0.049358384569041285, 0.7814727758480847, 0.894534765065793, 0.9485111072616086, 0.03312312135167091, 0.9605705191984564, 0.7041085607260169, 0.17602714018150423, 0.11001696261344014, 0.9749236395384088, 0.8850133062352491, 0.9930303553726554, 0.9553969712274917, 0.9845722137389323, 0.9568247554141922, 0.8957963266754172, 0.25945689429220214, 0.7135064593035558, 0.8355817238586605, 0.042631720605033695, 0.11936881769409435, 0.30826842725004433, 0.4352024855294743, 0.2357346796617986, 0.9572725739823674, 0.2213033786579853, 0.6884994002692876, 0.0245892642953317, 0.0245892642953317, 0.0245892642953317, 0.968599804239895, 0.9909840874013275, 0.17335139871590358, 0.8172280225178311, 0.9345067616791619, 0.986212109278918, 0.9938300093555923, 0.9647749803037419, 0.5792175993527862, 0.4054523195469503, 0.3698440446007249, 0.5917504713611599, 0.9776308362716479, 0.3060394472913221, 0.31915542360380733, 0.09618382629155837, 0.02185996052080872, 0.25357554204138116, 0.008302846679730027, 0.929918828129763, 0.0622713500979752, 0.9625322763737671, 0.16123986627610531, 0.48371959882831594, 0.01465816966146412, 0.33713790221367473, 0.9126409450820041, 0.584560948601722, 0.1495388473167196, 0.21751105064250123, 0.04078332199546898, 0.9429311980383461, 0.05893319987739663, 0.9700520117122875, 0.9196435943409835, 0.18317078679284618, 0.15499066574779294, 0.4227018156757989, 0.0469668684084221, 0.16908072627031956, 0.02348343420421105, 0.22125338503556582, 0.6637601551066975, 0.10211694693949191, 0.9019066328212811, 0.9303736110221312, 0.9319616026725596, 0.46334832059134035, 0.2254126965038953, 0.08766049308484818, 0.2254126965038953, 0.926949317293311, 0.8817423389891798, 0.9932181843676967, 0.8710429852734038, 0.03909487331202852, 0.8209923395525991, 0.11728461993608558, 0.8580783031823875, 0.9563991953186521, 0.22247120827585504, 0.7590194164705643, 0.9922676230994651, 0.9210523914431592, 0.8906483932477535, 0.9348838808207001, 0.060315089085206455, 0.9757533012244555, 0.9914390011248552, 0.9580444173357257, 0.03548312656798984, 0.7704659754163891, 0.2668688699652985, 0.37361641795141787, 0.352266908354194, 0.8486103913401783, 0.06286002898816136, 0.044002020291712955, 0.012572005797632272, 0.03771601739289682, 0.9078061831048645, 0.8962470423242783, 0.05361681573259248, 0.9382942753203684, 0.929940165611631, 0.9677272759974512, 0.15310464540208815, 0.3464999869626206, 0.3464999869626206, 0.11281394924364391, 0.04029069615844425, 0.9635254923912806, 0.1652036273113729, 0.23128507823592206, 0.5947330583209425, 0.8912212234985726, 0.09687187211941006, 0.914684987750738, 0.5812230684386531, 0.20438613395644947, 0.15967666715347614, 0.05109653348911237, 0.7597501824624637, 0.23376928691152732, 0.9741683650236153, 0.8836399756272922, 0.09400425272630769, 0.17044995675879146, 0.7007387111194759, 0.11363330450586097, 0.955346804901734, 0.9597088540387991, 0.7735942072945261, 0.9484122055105116, 0.9463321137359206, 0.986212109278918, 0.8242897684604908, 0.9082141307237516, 0.8490798516501417, 0.05373923111709757, 0.09673061601077564, 0.9255335437812693, 0.10861637490934546, 0.07241091660623031, 0.5430818745467273, 0.26550669422284445, 0.455579568064065, 0.5256687323816135, 0.8693377042622644, 0.9509221735622445, 0.07196461029355344, 0.1439292205871069, 0.7196461029355344, 0.12367234677305979, 0.8657064274114185, 0.995021985322253, 0.9818586833743712, 0.32191104696994793, 0.4165907666669914, 0.0378718878788174, 0.22723132727290443, 0.986212109278918, 0.9388733951666778, 0.9880519072749003, 0.6712616062119062, 0.047947257586564734, 0.26370991672610605, 0.24172460296090337, 0.6284839676983487, 0.145034761776542, 0.9732473196456791, 0.08518908549474066, 0.8944853976947769, 0.24738986033966467, 0.19116489208064996, 0.3823297841612999, 0.16867490477704408, 0.07299022079728619, 0.12773288639525082, 0.7116546527735403, 0.09123777599660773, 0.8597115266905, 0.11144408679321295, 0.01592058382760185, 0.9493479457305463, 0.973624013270647, 0.8439368852182498, 0.15823816597842186, 0.889494383842598, 0.9310160298943639, 0.8773328414853259, 0.9730352868237356, 0.9688172912533558, 0.8633647737266523, 0.8720772205179401, 0.09689746894643779, 0.9831082277007973, 0.883713344361262, 0.9015651561969719, 0.24345064253651896, 0.7546969918632088, 0.9594127095787782, 0.2662372137915436, 0.17749147586102906, 0.5324744275830872, 0.05022317037559339, 0.9040170667606809, 0.9813846437817244, 0.2272221730293835, 0.6816665190881505, 0.9209055903212161, 0.06577897073722971, 0.986212109278918, 0.942516587679946, 0.9256288802801855, 0.8280407455237342, 0.17564500662624666, 0.9880643912499253, 0.9614802559678192, 0.9072581611234253, 0.6410289923614313, 0.07051318915975743, 0.2756424667154154, 0.012820579847228624, 0.9621357412812969, 0.02672599281336936, 0.20276819510449431, 0.608304585313483, 0.20276819510449431, 0.9746664044984736, 0.9854590730769052, 0.3965948943006593, 0.06609914905010988, 0.41311968156318674, 0.1156735108376923, 0.9065545009796098, 0.06475389292711499, 0.8391303343353987, 0.968705508665139, 0.9584787187879182, 0.25351524022019445, 0.10563135009174769, 0.06337881005504861, 0.4013991303486413, 0.14788389012844677, 0.19267520172029076, 0.7909824070622463, 0.41228087585513323, 0.14945181749748582, 0.1185307518083508, 0.29375012404678247, 0.02061404379275666, 0.04998616151960892, 0.649820099754916, 0.28325491527778385, 0.975995124281274, 0.4668302439016554, 0.45544414039185893, 0.06831662105877884, 0.9858169495565475, 0.9690154808023765, 0.028500455317716958, 0.014975043267299119, 0.30698838697963193, 0.2620632571777346, 0.28452582207868327, 0.1272878677720425, 0.9679764133857706, 0.9684904096946514, 0.8219891758880956, 0.8659284030754439, 0.5570955362020603, 0.42710657775491295, 0.009284925603367673, 0.25661170565753133, 0.06158680935780752, 0.32846298324164014, 0.34899191969424265, 0.9796969588109079, 0.9155025835998256, 0.07227651975788096, 0.22063097809268103, 0.35997685899332166, 0.39481332921848183, 0.023224313483440107, 0.9419149692374854, 0.9700735251437778, 0.8963150302783707, 0.9199091120641413, 0.8587225329688304, 0.061337323783487885, 0.9665010455893935, 0.11580325323425314, 0.8685243992568986, 0.05790162661712657, 0.977634394201401, 0.9122976698895374, 0.9771609361321003, 0.9897929685587338, 0.9224913252236495, 0.08386284774760451, 0.299205246837576, 0.5053244168812395, 0.11303309324975094, 0.0797880658233536, 0.9651414530933342, 0.9621184682694466, 0.03992146048999046, 0.9181935912697805, 0.9210697955673862, 0.8724594825689964, 0.04362297412844982, 0.06543446119267474, 0.9748985262288826, 0.9413671159593899, 0.8832786474591697, 0.10191676701451959, 0.9146811494202126, 0.8796773984960831, 0.11887532412109231, 0.9894310109391563, 0.9835318836462157, 0.6578085623206286, 0.19887235605042258, 0.00917872412540412, 0.13462128717259375, 0.0575504542468221, 0.2493853017362291, 0.6714219662129245, 0.04837345194779609, 0.9674690389559217, 0.9412767032811354, 0.9919342893147801, 0.989203305579869, 0.930843371981861, 0.9891169121104513, 0.03987896241283589, 0.059818443619253835, 0.23927377447701534, 0.5583054737797024, 0.09969740603208972, 0.9890317068242868, 0.9656422744378609, 0.3116908738762598, 0.03778071198500119, 0.6517172817412705, 0.03245482534538762, 0.9736447603616286, 0.5424998867607379, 0.022762233010940054, 0.2503845631203406, 0.18589156958934377, 0.33360933562757233, 0.5977167263327338, 0.06950194492241091, 0.964057013779459, 0.004442659049674926, 0.031098613347724482, 0.9530944332368182, 0.03812377732947273, 0.9144413702886777, 0.39771283882935804, 0.24722689981284418, 0.3439678606091745, 0.9430791184986334, 0.9107693540471645, 0.9479188675217523, 0.04308722125098874, 0.9684587858897387, 0.09309821331208666, 0.9309821331208666, 0.9592039631988981, 0.937834568922799, 0.887895779839141, 0.9188263114387019, 0.9381982410061133, 0.959764958938669, 0.514164492572601, 0.196661994854958, 0.0710826487427559, 0.09714628661509973, 0.12320992448744357, 0.22176045704661018, 0.46886496632711866, 0.08870418281864408, 0.21542444398813562, 0.9834882333451416, 0.03706957275491896, 0.2687544024731625, 0.08340653869856766, 0.12974350464221637, 0.1390108978309461, 0.2780217956618922, 0.06487175232110819, 0.8491058171621636, 0.986212109278918, 0.16791073079683608, 0.6436578013878717, 0.02798512179947268, 0.15991498171127247, 0.7970662958177736, 0.9219270687079152, 0.4172126383918924, 0.3596660675792176, 0.20141299784436184, 0.6831190264552497, 0.30740356190486234, 0.5590056950313292, 0.43000438079333014, 0.69914194629488, 0.08766670172976553, 0.17752507100277518, 0.03506668069190621, 0.43784741511442893, 0.5473092688930361, 0.9152792808744529, 0.9537156669815591, 0.10688389938186335, 0.035627966460621115, 0.5344194969093168, 0.035627966460621115, 0.2672097484546584, 0.9891518642895588, 0.8415432399630953, 0.9723453430091784, 0.4084634133487048, 0.07020464916930863, 0.4467568583501459, 0.07658689000288214, 0.9396197736140579, 0.9880433524277312, 0.9473995770702247, 0.3443318867811518, 0.12597508052968967, 0.050390032211875865, 0.23515348365542071, 0.24355182235740003, 0.4872732107844089, 0.5094219930927911, 0.9811188467633396, 0.7970198342284285, 0.9824614201711349, 0.22449313523377196, 0.7770916219630567, 0.10317350389750878, 0.43063723365916706, 0.04934384969011289, 0.10765930841479177, 0.1839179852086026, 0.06280126324196186, 0.05831545872467887, 0.9879347250633542, 0.97084618409019, 0.20738221107286822, 0.046084935793970716, 0.5069342937336778, 0.2534671468668389, 0.8059030667823307, 0.36214699933909544, 0.3072762418634749, 0.3292245448537231, 0.92150946598056, 0.9371393092690313, 0.1046521122823124, 0.8372168982584992, 0.024476761245812887, 0.14686056747487733, 0.8077331211118253, 0.024476761245812887, 0.9743171851152307, 0.9747040664427596, 0.3973777541905135, 0.12299787629706371, 0.21761162729480502, 0.14192062649661197, 0.12299787629706371, 0.9694147698832044], \"Term\": [\"ability\", \"able\", \"able\", \"access\", \"accountability\", \"achieve\", \"action\", \"active\", \"activity\", \"adaptive\", \"address\", \"address\", \"address\", \"adoption\", \"advent\", \"agent\", \"ai\", \"ai\", \"ai\", \"aim\", \"aim\", \"algorithm\", \"algorithm\", \"algorithmic\", \"algorithmic\", \"also\", \"also\", \"also\", \"also\", \"analyse\", \"analysis\", \"analysis\", \"analysis\", \"analysis\", \"analysis\", \"analysis\", \"analysis\", \"analytic\", \"analytical\", \"analyze\", \"analyze\", \"analyze\", \"analyze\", \"anomaly\", \"antagonistic\", \"application\", \"application\", \"application\", \"application\", \"application\", \"application\", \"apply\", \"apply\", \"apply\", \"apply\", \"apply\", \"approach\", \"approach\", \"approach\", \"approach\", \"appropriate\", \"appropriate\", \"appropriate\", \"art\", \"artificial\", \"artificial\", \"aspect\", \"aspect\", \"assess\", \"assess\", \"attack\", \"audience\", \"audit\", \"available\", \"backup\", \"base\", \"base\", \"base\", \"basic\", \"basic\", \"basic\", \"basic\", \"be\", \"be\", \"be\", \"be\", \"become\", \"begin\", \"beneficial\", \"bias\", \"bias\", \"broad\", \"broadly\", \"career\", \"case\", \"case\", \"case\", \"case\", \"challenge\", \"challenge\", \"challenge\", \"challenge\", \"challenge\", \"change\", \"change\", \"characteristic\", \"chip\", \"class\", \"class\", \"classification\", \"classification\", \"climate\", \"cluster\", \"clustering\", \"commerce\", \"communicate\", \"community\", \"complex\", \"complex\", \"complex\", \"component\", \"computation\", \"compute\", \"computer\", \"computer\", \"computer\", \"concept\", \"concept\", \"concept\", \"concern\", \"concern\", \"conclusion\", \"concrete\", \"conflict\", \"consequence\", \"consequence\", \"consideration\", \"consideration\", \"consideration\", \"constraint\", \"context\", \"context\", \"context\", \"conventional\", \"core\", \"course\", \"course\", \"course\", \"course\", \"course\", \"course\", \"course\", \"create\", \"create\", \"creation\", \"critical\", \"critical\", \"critically\", \"critically\", \"critically\", \"cryptography\", \"culture\", \"culture\", \"curation\", \"curriculum\", \"cyber\", \"cyber\", \"data\", \"data\", \"data\", \"data\", \"database\", \"database\", \"datathon\", \"datum\", \"datum\", \"datum\", \"decision\", \"decision\", \"decision\", \"decision\", \"define\", \"definition\", \"degree\", \"demonstrate\", \"demonstrate\", \"department\", \"department\", \"deploy\", \"describe\", \"description\", \"design\", \"design\", \"design\", \"desire\", \"detection\", \"develop\", \"develop\", \"develop\", \"develop\", \"development\", \"development\", \"development\", \"diagram\", \"differential\", \"digital\", \"digital\", \"digital\", \"discipline\", \"discipline\", \"discipline\", \"discipline\", \"discover\", \"disruptive\", \"doctor\", \"document\", \"dynamic\", \"economic\", \"economic\", \"economic\", \"economic\", \"economic\", \"education\", \"education\", \"element\", \"elicitation\", \"emphasis\", \"emphasis\", \"emphasis\", \"emphasis\", \"empirical\", \"enable\", \"encourage\", \"ended\", \"engineer\", \"engineer\", \"engineering\", \"engineering\", \"entrepreneurial\", \"environment\", \"environment\", \"environmental\", \"environmental\", \"environmental\", \"environmental\", \"essential\", \"establish\", \"ethic\", \"ethic\", \"ethical\", \"ethical\", \"ethical\", \"ethical\", \"ethical\", \"everyday\", \"examination\", \"examine\", \"examine\", \"examine\", \"experiment\", \"expertise\", \"exploit\", \"explore\", \"explore\", \"explore\", \"explore\", \"explore\", \"explore\", \"extensive\", \"extract\", \"face\", \"facilitate\", \"facilitate\", \"factor\", \"factor\", \"factor\", \"fairness\", \"familiar\", \"forensic\", \"formulate\", \"function\", \"gain\", \"genetic\", \"give\", \"give\", \"global\", \"global\", \"global\", \"goal\", \"goal\", \"goal\", \"governance\", \"graduate\", \"graduate\", \"graduate\", \"graduate\", \"graduate\", \"group\", \"growth\", \"hand\", \"hand\", \"hardware\", \"hash\", \"healthcare\", \"high\", \"historical\", \"historical\", \"history\", \"history\", \"home\", \"how\", \"how\", \"how\", \"how\", \"how\", \"human\", \"human\", \"human\", \"idea\", \"identify\", \"identify\", \"identify\", \"identify\", \"identity\", \"impact\", \"impact\", \"impact\", \"impact\", \"importance\", \"importance\", \"important\", \"improvement\", \"include\", \"include\", \"include\", \"include\", \"include\", \"include\", \"individual\", \"individual\", \"individual\", \"industrial\", \"inform\", \"informatic\", \"information\", \"information\", \"information\", \"information\", \"informed\", \"infrastructure\", \"innovation\", \"institution\", \"integrate\", \"integrate\", \"integrate\", \"integrity\", \"intellectual\", \"intelligence\", \"intelligence\", \"intelligent\", \"intend\", \"interact\", \"interaction\", \"interaction\", \"interest\", \"interface\", \"internet\", \"internet\", \"interplay\", \"introduce\", \"introduce\", \"introduce\", \"issue\", \"issue\", \"issue\", \"issue\", \"issue\", \"judgment\", \"justify\", \"key\", \"key\", \"kind\", \"know\", \"knowledge\", \"knowledge\", \"knowledge\", \"knowledge\", \"knowledge\", \"language\", \"large\", \"large\", \"large\", \"law\", \"law\", \"leadership\", \"learn\", \"learn\", \"learn\", \"learn\", \"learning\", \"learning\", \"lecture\", \"legal\", \"legal\", \"level\", \"level\", \"level\", \"leverage\", \"limitation\", \"literacy\", \"literature\", \"local\", \"log\", \"logic\", \"lsda\", \"machine\", \"machine\", \"machine\", \"maintenance\", \"make\", \"make\", \"make\", \"make\", \"management\", \"management\", \"manner\", \"master\", \"material\", \"material\", \"material\", \"mean\", \"mean\", \"mediate\", \"meet\", \"method\", \"method\", \"method\", \"method\", \"mime\", \"mining\", \"mix\", \"model\", \"model\", \"model\", \"modern\", \"modern\", \"modern\", \"module\", \"necessary\", \"necessary\", \"need\", \"need\", \"need\", \"need\", \"network\", \"network\", \"network\", \"network\", \"new\", \"new\", \"new\", \"notion\", \"obtain\", \"offer\", \"offer\", \"only\", \"operating\", \"order\", \"orient\", \"outcome\", \"outline\", \"overview\", \"overview\", \"paper\", \"paradigm\", \"participant\", \"particular\", \"particular\", \"patient\", \"pattern\", \"pattern\", \"pattern\", \"people\", \"people\", \"performance\", \"personal\", \"personal\", \"perspective\", \"perspective\", \"pgp\", \"phd\", \"piece\", \"plan\", \"plan\", \"platform\", \"play\", \"point\", \"policy\", \"policy\", \"policy\", \"policy\", \"political\", \"political\", \"potential\", \"potential\", \"potential\", \"power\", \"practical\", \"practice\", \"practice\", \"practice\", \"practice\", \"prediction\", \"prediction\", \"predictive\", \"preference\", \"presentation\", \"principle\", \"principle\", \"principle\", \"principle\", \"principle\", \"privacy\", \"privacy\", \"problem\", \"problem\", \"problem\", \"problem\", \"problem\", \"process\", \"process\", \"process\", \"produce\", \"professional\", \"professional\", \"professional\", \"program\", \"programme\", \"programme\", \"project\", \"project\", \"project\", \"project\", \"project\", \"promote\", \"property\", \"protect\", \"protection\", \"provide\", \"provide\", \"provide\", \"public\", \"public\", \"public\", \"public\", \"quality\", \"question\", \"question\", \"range\", \"range\", \"range\", \"range\", \"reading\", \"real\", \"reason\", \"reasoning\", \"recent\", \"recent\", \"recognition\", \"recognize\", \"recognize\", \"recognize\", \"reflect\", \"regression\", \"related\", \"relationship\", \"requirement\", \"requirement\", \"research\", \"research\", \"research\", \"research\", \"researcher\", \"responsibility\", \"result\", \"result\", \"revolution\", \"risk\", \"risk\", \"risk\", \"robot\", \"robotic\", \"role\", \"role\", \"safe\", \"safety\", \"safety\", \"same\", \"scale\", \"science\", \"science\", \"science\", \"science\", \"scientific\", \"scientific\", \"scientific\", \"sector\", \"sector\", \"secure\", \"security\", \"see\", \"selection\", \"sensing\", \"set\", \"set\", \"set\", \"set\", \"set\", \"shape\", \"simulation\", \"skill\", \"skill\", \"skill\", \"smart\", \"smart\", \"social\", \"social\", \"social\", \"social\", \"societal\", \"societal\", \"societal\", \"society\", \"society\", \"society\", \"software\", \"software\", \"solid\", \"solution\", \"solution\", \"solution\", \"source\", \"special\", \"specific\", \"specific\", \"st\", \"stakeholder\", \"stakeholder\", \"standard\", \"start\", \"statistical\", \"stewardship\", \"structure\", \"sts\", \"student\", \"student\", \"student\", \"student\", \"student\", \"study\", \"study\", \"study\", \"study\", \"substantial\", \"such\", \"such\", \"such\", \"such\", \"such\", \"such\", \"such\", \"sustainable\", \"synergistic\", \"system\", \"system\", \"system\", \"system\", \"systematic\", \"task\", \"team\", \"team\", \"team\", \"technique\", \"technique\", \"technological\", \"technological\", \"technology\", \"technology\", \"technology\", \"technology\", \"term\", \"term\", \"test\", \"theoretical\", \"theory\", \"theory\", \"theory\", \"theory\", \"theory\", \"thing\", \"threat\", \"together\", \"topic\", \"topic\", \"topic\", \"topic\", \"train\", \"trust\", \"undergraduate\", \"understand\", \"understand\", \"understand\", \"understand\", \"understand\", \"understanding\", \"understanding\", \"unit\", \"universe\", \"unprecedented\", \"usability\", \"usability\", \"use\", \"use\", \"use\", \"use\", \"use\", \"use\", \"use\", \"user\", \"value\", \"various\", \"various\", \"various\", \"various\", \"vulnerability\", \"way\", \"way\", \"way\", \"web\", \"welfare\", \"why\", \"why\", \"wide\", \"wide\", \"wide\", \"wide\", \"widely\", \"wisdom\", \"work\", \"work\", \"work\", \"work\", \"work\", \"year\"]}, \"R\": 30, \"lambda.step\": 0.01, \"plot.opts\": {\"xlab\": \"PC1\", \"ylab\": \"PC2\"}, \"topic.order\": [8, 5, 4, 7, 3, 2, 1, 6]};\n",
       "\n",
       "function LDAvis_load_lib(url, callback){\n",
       "  var s = document.createElement('script');\n",
       "  s.src = url;\n",
       "  s.async = true;\n",
       "  s.onreadystatechange = s.onload = callback;\n",
       "  s.onerror = function(){console.warn(\"failed to load library \" + url);};\n",
       "  document.getElementsByTagName(\"head\")[0].appendChild(s);\n",
       "}\n",
       "\n",
       "if(typeof(LDAvis) !== \"undefined\"){\n",
       "   // already loaded: just create the visualization\n",
       "   !function(LDAvis){\n",
       "       new LDAvis(\"#\" + \"ldavis_el599441406790601385766516595942\", ldavis_el599441406790601385766516595942_data);\n",
       "   }(LDAvis);\n",
       "}else if(typeof define === \"function\" && define.amd){\n",
       "   // require.js is available: use it to load d3/LDAvis\n",
       "   require.config({paths: {d3: \"https://d3js.org/d3.v5\"}});\n",
       "   require([\"d3\"], function(d3){\n",
       "      window.d3 = d3;\n",
       "      LDAvis_load_lib(\"https://cdn.jsdelivr.net/gh/bmabey/pyLDAvis@3.3.1/pyLDAvis/js/ldavis.v3.0.0.js\", function(){\n",
       "        new LDAvis(\"#\" + \"ldavis_el599441406790601385766516595942\", ldavis_el599441406790601385766516595942_data);\n",
       "      });\n",
       "    });\n",
       "}else{\n",
       "    // require.js not available: dynamically load d3 & LDAvis\n",
       "    LDAvis_load_lib(\"https://d3js.org/d3.v5.js\", function(){\n",
       "         LDAvis_load_lib(\"https://cdn.jsdelivr.net/gh/bmabey/pyLDAvis@3.3.1/pyLDAvis/js/ldavis.v3.0.0.js\", function(){\n",
       "                 new LDAvis(\"#\" + \"ldavis_el599441406790601385766516595942\", ldavis_el599441406790601385766516595942_data);\n",
       "            })\n",
       "         });\n",
       "}\n",
       "</script>"
      ],
      "text/plain": [
       "PreparedData(topic_coordinates=              x         y  topics  cluster       Freq\n",
       "topic                                                \n",
       "7     -0.152526  0.241887       1        1  29.142106\n",
       "4      0.127507  0.360492       2        1  14.368988\n",
       "3      0.312341 -0.086881       3        1  13.597115\n",
       "6     -0.354484  0.023251       4        1  12.627787\n",
       "2      0.205999  0.089815       5        1  11.914489\n",
       "1     -0.057422 -0.033703       6        1   8.775594\n",
       "0     -0.210399 -0.299067       7        1   5.843789\n",
       "5      0.128984 -0.295794       8        1   3.730132, topic_info=            Term        Freq       Total Category  logprob  loglift\n",
       "23         datum  319.000000  319.000000  Default  30.0000  30.0000\n",
       "286        human  240.000000  240.000000  Default  29.0000  29.0000\n",
       "480     security  141.000000  141.000000  Default  28.0000  28.0000\n",
       "1049  healthcare  187.000000  187.000000  Default  27.0000  27.0000\n",
       "26        design  239.000000  239.000000  Default  26.0000  26.0000\n",
       "...          ...         ...         ...      ...      ...      ...\n",
       "228      machine    8.583233   93.041897   Topic8  -4.9211   0.9055\n",
       "76     principle    7.296931   47.334432   Topic8  -5.0835   1.4189\n",
       "203         such    6.624738  107.905209   Topic8  -5.1801   0.4983\n",
       "2        analyze    4.992059   47.165656   Topic8  -5.4631   1.0429\n",
       "172     decision    4.765273   53.906290   Topic8  -5.5096   0.8628\n",
       "\n",
       "[485 rows x 6 columns], token_table=      Topic      Freq            Term\n",
       "term                                 \n",
       "0         5  0.985367         ability\n",
       "512       1  0.176549            able\n",
       "512       3  0.818546            able\n",
       "454       7  0.907224          access\n",
       "1456      8  0.948541  accountability\n",
       "...     ...       ...             ...\n",
       "342       3  0.122998            work\n",
       "342       4  0.217612            work\n",
       "342       6  0.141921            work\n",
       "342       7  0.122998            work\n",
       "159       1  0.969415            year\n",
       "\n",
       "[754 rows x 3 columns], R=30, lambda_step=0.01, plot_opts={'xlab': 'PC1', 'ylab': 'PC2'}, topic_order=[8, 5, 4, 7, 3, 2, 1, 6])"
      ]
     },
     "execution_count": 41,
     "metadata": {},
     "output_type": "execute_result"
    }
   ],
   "source": [
    "pyLDAvis.enable_notebook()\n",
    "import pyLDAvis.gensim_models\n",
    "vis = pyLDAvis.gensim_models.prepare(optimal_model, corpus, id2word,mds='mmds')\n",
    "vis"
   ]
  },
  {
   "cell_type": "code",
   "execution_count": 42,
   "metadata": {},
   "outputs": [
    {
     "name": "stdout",
     "output_type": "stream",
     "text": [
      "[(21, '0.031*\"strengthen\" + 0.031*\"password\" + 0.031*\"remote\" + 0.024*\"equipment\" + 0.016*\"scanning\" + 0.016*\"file\" + 0.016*\"customize\" + 0.016*\"vulnerable\" + 0.016*\"install\" + 0.016*\"trojan\"'), (30, '0.060*\"genetic\" + 0.048*\"engineering\" + 0.046*\"independent\" + 0.027*\"reading\" + 0.026*\"biotechnology\" + 0.019*\"essay\" + 0.019*\"appreciation\" + 0.018*\"format\" + 0.016*\"gap\" + 0.014*\"enter\"'), (27, '0.254*\"mediate\" + 0.042*\"introductory\" + 0.019*\"look\" + 0.018*\"engagement\" + 0.016*\"climate\" + 0.014*\"controversial\" + 0.012*\"count\" + 0.012*\"american\" + 0.010*\"treat\" + 0.010*\"danger\"'), (34, '0.098*\"teach\" + 0.076*\"faculty\" + 0.045*\"session\" + 0.032*\"member\" + 0.030*\"laboratory\" + 0.025*\"full\" + 0.020*\"academic\" + 0.020*\"outline\" + 0.015*\"tutorial\" + 0.013*\"classroom\"'), (23, '0.132*\"aspect\" + 0.035*\"rule\" + 0.030*\"employment\" + 0.018*\"ethically\" + 0.017*\"automation\" + 0.014*\"man\" + 0.014*\"supervisor\" + 0.012*\"integration\" + 0.012*\"discourse\" + 0.011*\"internship\"'), (0, '0.045*\"communication\" + 0.045*\"rapidly\" + 0.035*\"regulatory\" + 0.028*\"infrastructure\" + 0.027*\"access\" + 0.026*\"protect\" + 0.024*\"feature\" + 0.023*\"detailed\" + 0.022*\"specific\" + 0.021*\"service\"'), (20, '0.064*\"have\" + 0.052*\"dimension\" + 0.046*\"disruptive\" + 0.034*\"familiar\" + 0.033*\"emphasize\" + 0.027*\"nanotechnology\" + 0.020*\"daily\" + 0.019*\"answer\" + 0.018*\"prior\" + 0.016*\"familiarity\"'), (26, '0.225*\"research\" + 0.023*\"degree\" + 0.019*\"academic\" + 0.018*\"use\" + 0.016*\"behaviour\" + 0.015*\"aggregate\" + 0.014*\"advisor\" + 0.013*\"qualitative\" + 0.012*\"thesis\" + 0.012*\"picture\"'), (10, '0.055*\"training\" + 0.049*\"organization\" + 0.041*\"company\" + 0.033*\"start\" + 0.030*\"singapore\" + 0.030*\"limit\" + 0.029*\"special\" + 0.026*\"character\" + 0.017*\"comparative\" + 0.016*\"efficiency\"'), (15, '0.051*\"robot\" + 0.043*\"question\" + 0.039*\"link\" + 0.034*\"raise\" + 0.034*\"explain\" + 0.033*\"autonomous\" + 0.023*\"be\" + 0.018*\"acquisition\" + 0.018*\"finding\" + 0.017*\"vehicle\"'), (28, '0.042*\"software\" + 0.039*\"identify\" + 0.035*\"system\" + 0.032*\"research\" + 0.031*\"evaluate\" + 0.030*\"describe\" + 0.029*\"design\" + 0.023*\"relate\" + 0.022*\"context\" + 0.022*\"method\"'), (29, '0.122*\"machine\" + 0.090*\"learning\" + 0.075*\"problem\" + 0.056*\"learn\" + 0.055*\"fundamental\" + 0.040*\"widely\" + 0.040*\"introduce\" + 0.039*\"model\" + 0.024*\"basic\" + 0.021*\"technique\"'), (22, '0.070*\"see\" + 0.065*\"well\" + 0.060*\"active\" + 0.060*\"adoption\" + 0.050*\"course\" + 0.046*\"as\" + 0.041*\"student\" + 0.039*\"give\" + 0.038*\"focus\" + 0.027*\"concern\"'), (9, '0.099*\"computer\" + 0.080*\"engineering\" + 0.036*\"performance\" + 0.034*\"design\" + 0.033*\"related\" + 0.028*\"simulation\" + 0.028*\"adaptive\" + 0.028*\"system\" + 0.028*\"conventional\" + 0.015*\"professional\"'), (12, '0.138*\"healthcare\" + 0.123*\"ai\" + 0.060*\"how\" + 0.049*\"learn\" + 0.040*\"student\" + 0.033*\"change\" + 0.026*\"community\" + 0.026*\"technique\" + 0.024*\"datum\" + 0.024*\"promote\"'), (6, '0.084*\"develop\" + 0.072*\"concept\" + 0.062*\"broad\" + 0.057*\"knowledge\" + 0.056*\"ethical\" + 0.037*\"technique\" + 0.036*\"range\" + 0.035*\"overview\" + 0.035*\"particular\" + 0.034*\"level\"'), (35, '0.094*\"society\" + 0.092*\"impact\" + 0.071*\"technology\" + 0.042*\"critically\" + 0.036*\"domain\" + 0.035*\"time\" + 0.034*\"smart\" + 0.033*\"compute\" + 0.032*\"sensing\" + 0.031*\"doctor\"'), (37, '0.194*\"human\" + 0.080*\"interaction\" + 0.065*\"system\" + 0.062*\"social\" + 0.047*\"intelligent\" + 0.034*\"topic\" + 0.030*\"study\" + 0.029*\"include\" + 0.029*\"individual\" + 0.028*\"also\"'), (14, '0.095*\"student\" + 0.035*\"be\" + 0.034*\"problem\" + 0.034*\"need\" + 0.026*\"challenge\" + 0.024*\"where\" + 0.024*\"open\" + 0.024*\"skill\" + 0.023*\"such\" + 0.023*\"function\"'), (8, '0.062*\"science\" + 0.059*\"technology\" + 0.039*\"ethical\" + 0.034*\"social\" + 0.033*\"computer\" + 0.033*\"understand\" + 0.033*\"study\" + 0.033*\"issue\" + 0.027*\"case\" + 0.024*\"ethic\"')]\n"
     ]
    }
   ],
   "source": [
    "#12.6 Select the model and print the topics\n",
    "optimal_model = model_list[6]\n",
    "model_topics = optimal_model.show_topics(formatted=False)\n",
    "print(optimal_model.print_topics(num_words=10))"
   ]
  },
  {
   "cell_type": "code",
   "execution_count": null,
   "metadata": {},
   "outputs": [],
   "source": []
  }
 ],
 "metadata": {
  "kernelspec": {
   "display_name": "Python 3",
   "language": "python",
   "name": "python3"
  },
  "language_info": {
   "codemirror_mode": {
    "name": "ipython",
    "version": 3
   },
   "file_extension": ".py",
   "mimetype": "text/x-python",
   "name": "python",
   "nbconvert_exporter": "python",
   "pygments_lexer": "ipython3",
   "version": "3.8.5"
  }
 },
 "nbformat": 4,
 "nbformat_minor": 2
}
